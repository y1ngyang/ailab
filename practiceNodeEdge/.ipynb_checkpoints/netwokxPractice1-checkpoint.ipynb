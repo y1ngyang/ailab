{
 "cells": [
  {
   "cell_type": "markdown",
   "metadata": {},
   "source": [
    "# Practice node and edges \n",
    "https://www.cl.cam.ac.uk/~cm542/teaching/2010/stna-pdfs/stna-lecture8.pdf"
   ]
  },
  {
   "cell_type": "code",
   "execution_count": 1,
   "metadata": {
    "ExecuteTime": {
     "end_time": "2018-08-02T20:52:30.593898Z",
     "start_time": "2018-08-02T20:52:29.176225Z"
    }
   },
   "outputs": [],
   "source": [
    "import csv\n",
    "import networkx as nx\n",
    "from operator import itemgetter\n",
    "import community"
   ]
  },
  {
   "cell_type": "code",
   "execution_count": 2,
   "metadata": {
    "ExecuteTime": {
     "end_time": "2018-08-02T20:52:31.390561Z",
     "start_time": "2018-08-02T20:52:31.380682Z"
    }
   },
   "outputs": [],
   "source": [
    "with open('quakers_nodelist.csv', 'r') as nodecsv: # Open the file                       \n",
    "    nodereader = csv.reader(nodecsv) # Read the csv  \n",
    "    # Retrieve the data (using Python list comprhension and list slicing to remove the header row, see footnote 3)\n",
    "    nodes = [n for n in nodereader][1:]                     \n",
    "\n",
    "node_names = [n[0] for n in nodes] # Get a list of only the node names                                       \n",
    "\n",
    "with open('quakers_edgelist.csv', 'r') as edgecsv: # Open the file\n",
    "    edgereader = csv.reader(edgecsv) # Read the csv     \n",
    "    edges = [tuple(e) for e in edgereader][1:] # Retrieve the data\n"
   ]
  },
  {
   "cell_type": "code",
   "execution_count": 3,
   "metadata": {
    "ExecuteTime": {
     "end_time": "2018-08-02T20:52:32.635143Z",
     "start_time": "2018-08-02T20:52:32.629192Z"
    }
   },
   "outputs": [
    {
     "name": "stdout",
     "output_type": "stream",
     "text": [
      "119\n"
     ]
    }
   ],
   "source": [
    "print(len(node_names))"
   ]
  },
  {
   "cell_type": "code",
   "execution_count": 4,
   "metadata": {
    "ExecuteTime": {
     "end_time": "2018-08-02T20:52:33.905510Z",
     "start_time": "2018-08-02T20:52:33.901846Z"
    }
   },
   "outputs": [
    {
     "name": "stdout",
     "output_type": "stream",
     "text": [
      "174\n"
     ]
    }
   ],
   "source": [
    "print(len(edges))"
   ]
  },
  {
   "cell_type": "markdown",
   "metadata": {},
   "source": [
    "### We now have a list of nodes (node_names) and a list of edges (edges). Now using networkx we add these.\n",
    "source:\n",
    "https://networkx.github.io/documentation/stable/tutorial.html#adding-attributes-to-graphs-nodes-and-edges"
   ]
  },
  {
   "cell_type": "code",
   "execution_count": 5,
   "metadata": {
    "ExecuteTime": {
     "end_time": "2018-08-02T20:52:39.774930Z",
     "start_time": "2018-08-02T20:52:39.770349Z"
    }
   },
   "outputs": [],
   "source": [
    "G = nx.Graph()\n",
    "#initialize the object"
   ]
  },
  {
   "cell_type": "code",
   "execution_count": 6,
   "metadata": {
    "ExecuteTime": {
     "end_time": "2018-08-02T20:52:40.809098Z",
     "start_time": "2018-08-02T20:52:40.803841Z"
    }
   },
   "outputs": [],
   "source": [
    "G.add_nodes_from(node_names)\n",
    "G.add_edges_from(edges)"
   ]
  },
  {
   "cell_type": "code",
   "execution_count": 7,
   "metadata": {
    "ExecuteTime": {
     "end_time": "2018-08-02T20:52:41.597923Z",
     "start_time": "2018-08-02T20:52:41.593222Z"
    }
   },
   "outputs": [
    {
     "name": "stdout",
     "output_type": "stream",
     "text": [
      "Name: \n",
      "Type: Graph\n",
      "Number of nodes: 119\n",
      "Number of edges: 174\n",
      "Average degree:   2.9244\n"
     ]
    }
   ],
   "source": [
    "print(nx.info(G))"
   ]
  },
  {
   "cell_type": "markdown",
   "metadata": {},
   "source": [
    "## Adding Attributes\n",
    "Using fuctions: nx.set_node_attributes() and nx.set_edge_attributes(). \n",
    "First create a Python dictionary, where node names = keys and attributes = values"
   ]
  },
  {
   "cell_type": "code",
   "execution_count": 8,
   "metadata": {
    "ExecuteTime": {
     "end_time": "2018-08-02T20:52:44.421638Z",
     "start_time": "2018-08-02T20:52:44.411678Z"
    }
   },
   "outputs": [],
   "source": [
    "hist_sig_dict = {}\n",
    "gender_dict = {}\n",
    "birth_dict = {}\n",
    "death_dict = {}\n",
    "id_dict = {}"
   ]
  },
  {
   "cell_type": "markdown",
   "metadata": {},
   "source": [
    "Check index of each attribute and make loop"
   ]
  },
  {
   "cell_type": "code",
   "execution_count": 9,
   "metadata": {
    "ExecuteTime": {
     "end_time": "2018-08-02T20:52:46.907494Z",
     "start_time": "2018-08-02T20:52:46.903505Z"
    }
   },
   "outputs": [],
   "source": [
    "for node in nodes: # Loop through the list, one row at a time\n",
    "    hist_sig_dict[node[0]] = node[1]\n",
    "    gender_dict[node[0]] = node[2]\n",
    "    birth_dict[node[0]] = node[3]\n",
    "    death_dict[node[0]] = node[4]\n",
    "    id_dict[node[0]] = node[5]\n"
   ]
  },
  {
   "cell_type": "markdown",
   "metadata": {},
   "source": [
    "add attributes to the corresponding dictionary"
   ]
  },
  {
   "cell_type": "code",
   "execution_count": 10,
   "metadata": {
    "ExecuteTime": {
     "end_time": "2018-08-02T20:52:52.626022Z",
     "start_time": "2018-08-02T20:52:52.618224Z"
    }
   },
   "outputs": [],
   "source": [
    "nx.set_node_attributes(G, hist_sig_dict, 'historical_significance')\n",
    "nx.set_node_attributes(G, gender_dict, 'gender')\n",
    "nx.set_node_attributes(G, birth_dict, 'birth_year')\n",
    "nx.set_node_attributes(G, death_dict, 'death_year')\n",
    "nx.set_node_attributes(G, id_dict, 'sdfb_id')"
   ]
  },
  {
   "cell_type": "code",
   "execution_count": 11,
   "metadata": {
    "ExecuteTime": {
     "end_time": "2018-08-02T20:52:53.549863Z",
     "start_time": "2018-08-02T20:52:53.535330Z"
    }
   },
   "outputs": [
    {
     "name": "stdout",
     "output_type": "stream",
     "text": [
      "Joseph Wyeth religious writer\n",
      "Alexander Skene of Newtyle local politician and author\n",
      "James Logan colonial official and scholar\n",
      "Dorcas Erbery Quaker preacher\n",
      "Lilias Skene Quaker preacher and poet\n",
      "William Mucklow religious writer\n",
      "Thomas Salthouse Quaker preacher and writer\n",
      "William Dewsbury Quaker activist\n",
      "John Audland Quaker preacher\n",
      "Richard Claridge Quaker minister and schoolmaster\n",
      "William Bradford printer\n",
      "Fettiplace Bellers philosophical writer and playwright\n",
      "John Bellers political economist and cloth merchant\n",
      "Isabel Yeamans Quaker preacher\n",
      "George Fox the younger religious writer\n",
      "George Fox  a founder of the Religious Society of Friends (Quakers)\n",
      "John Stubbs Quaker minister\n",
      "Anne Camm Quaker preacher\n",
      "John Camm Quaker preacher\n",
      "Thomas Camm Quaker preacher and writer\n",
      "Katharine Evans Quaker missionary\n",
      "Lydia Lancaster Quaker minister\n",
      "Samuel Clarridge Quaker activist\n",
      "Thomas Lower Quaker activist and physician\n",
      "Gervase Benson Quaker leader\n",
      "Stephen Crisp Quaker activist and writer\n",
      "James Claypoole merchant and pioneer settler in America\n",
      "Thomas Holme Quaker missionary\n",
      "John Freame banker and lobbyist\n",
      "John Swinton politician\n",
      "William Mead Quaker patron and merchant\n",
      "Henry Pickworth religious controversialist\n",
      "John Crook Quaker leader and writer\n",
      "Gilbert Latey Quaker activist\n",
      "Ellis Hookes Quaker administrator\n",
      "Joseph Besse historian of Quakerism\n",
      "James Nayler Quaker preacher and writer\n",
      "Elizabeth Hooten Quaker preacher\n",
      "George Whitehead Quaker leader and writer\n",
      "John Whitehead Quaker minister and preacher\n",
      "William Crouch Quaker leader and writer\n",
      "Benjamin Furly merchant and religious writer\n",
      "Silvanus Bevan apothecary\n",
      "Robert Rich Quaker adherent and sectary\n",
      "John Whiting Quaker bibliographer and writer\n",
      "Christopher Taylor religious writer and schoolmaster\n",
      "Thomas Lawson Quaker minister and botanist\n",
      "Richard Farnworth Quaker preacher and writer\n",
      "William Coddington merchant and official in America\n",
      "Thomas Taylor Quaker minister and writer\n",
      "Richard Vickris religious writer\n",
      "Robert Barclay religious writer and colonial governor\n",
      "Jane Sowle \n",
      "Tace Sowle printer and bookseller\n",
      "Leonard Fell Quaker missionary and writer\n",
      "Margaret Fell Quaker leader\n",
      "George Bishop government official and religious writer\n",
      "Elizabeth Leavens Quaker missionary\n",
      "Thomas Curtis Quaker schismatic\n",
      "Alice Curwen Quaker missionary\n",
      "Alexander Parker Quaker preacher and author\n",
      "John Wilkinson Quaker schismatic\n",
      "Thomas Aldam Quaker preacher and writer\n",
      "David Barclay of Ury soldier and politician\n",
      "David Barclay merchant\n",
      "Sir Charles Wager naval officer and politician\n",
      "George Keith Quaker schismatic and Church of England clergyman\n",
      "James Parnel Quaker martyr\n",
      "Peter Collinson botanist\n",
      "Franciscus Mercurius van Helmont physician and cabbalist\n",
      "William Caton Quaker preacher\n",
      "Francis Howgill Quaker activist\n",
      "Richard Hubberthorne Quaker activist\n",
      "William Ames Quaker preacher\n",
      "William Rogers Quaker schismatic\n",
      "Isaac Norris colonial official and merchant\n",
      "Anthony Sharp Quaker leader\n",
      "Mary Fisher Quaker missionary\n",
      "Anne Conway Viscountess Conway and Killultagh philosopher\n",
      "Samuel Fisher Quaker preacher and writer\n",
      "Francis Bugg Quaker apostate\n",
      "Sarah Gibbons Quaker preacher in America\n",
      "William Tomlinson religious writer\n",
      "Humphrey Norton Quaker missionary and author\n",
      "William Gibson Quaker leader\n",
      "Gideon Wanton merchant and colonial governor\n",
      "John Wanton merchant and colonial governor\n",
      "Grace Chamber Quaker minister\n",
      "Mary Prince Quaker preacher\n",
      "John Bartram botanist and explorer in America\n",
      "Edward Haistwell merchant\n",
      "John ap John Quaker leader\n",
      "John Rous Quaker missionary\n",
      "Anthony Pearson Quaker administrator\n",
      "Solomon Eccles musician and Quaker missionary\n",
      "John Burnyeat Quaker minister\n",
      "Edward Burrough Quaker activist and writer\n",
      "Rebecca Travers Quaker preacher and writer\n",
      "William Edmundson Quaker leader\n",
      "Sarah Cheevers Quaker missionary\n",
      "Edward Pyott parliamentarian army officer\n",
      "Daniel Quare maker of clocks, watches, and barometers\n",
      "John Penington Quaker apologist and controversialist\n",
      "Mary Penington Quaker and writer\n",
      "Charles Marshall Quaker preacher and apothecary\n",
      "Humphrey Woolrich religious writer\n",
      "William Penn Quaker leader and founder of Pennsylvania\n",
      "Mary Pennyman \n",
      "Dorothy Waugh Quaker preacher\n",
      "David Lloyd lawyer and politician in America\n",
      "Lewis Morris politician in America\n",
      "Martha Simmonds Quaker and author\n",
      "John Story Quaker schismatic\n",
      "Thomas Story Quaker minister and journal writer\n",
      "Thomas Ellwood religious controversialist\n",
      "William Simpson Quaker preacher\n",
      "Samuel Bownas Quaker minister and writer\n",
      "John Perrot Quaker schismatic\n",
      "Hannah Stranger Quaker missionary\n"
     ]
    }
   ],
   "source": [
    "for n in G.nodes(): \n",
    "    print(n, G.node[n]['historical_significance']) "
   ]
  },
  {
   "cell_type": "code",
   "execution_count": 12,
   "metadata": {
    "ExecuteTime": {
     "end_time": "2018-08-02T20:52:59.492617Z",
     "start_time": "2018-08-02T20:52:59.474347Z"
    }
   },
   "outputs": [
    {
     "name": "stdout",
     "output_type": "stream",
     "text": [
      "Joseph Wyeth 1663\n",
      "Alexander Skene of Newtyle 1621\n",
      "James Logan 1674\n",
      "Dorcas Erbery 1656\n",
      "Lilias Skene 1626\n",
      "William Mucklow 1630\n",
      "Thomas Salthouse 1630\n",
      "William Dewsbury 1621\n",
      "John Audland 1630\n",
      "Richard Claridge 1649\n",
      "William Bradford 1663\n",
      "Fettiplace Bellers 1687\n",
      "John Bellers 1654\n",
      "Isabel Yeamans 1637\n",
      "George Fox the younger 1551\n",
      "George Fox 1624\n",
      "John Stubbs 1618\n",
      "Anne Camm 1627\n",
      "John Camm 1605\n",
      "Thomas Camm 1640\n",
      "Katharine Evans 1618\n",
      "Lydia Lancaster 1683\n",
      "Samuel Clarridge 1631\n",
      "Thomas Lower 1633\n",
      "Gervase Benson 1569\n",
      "Stephen Crisp 1628\n",
      "James Claypoole 1634\n",
      "Thomas Holme 1626\n",
      "John Freame 1665\n",
      "John Swinton 1620\n",
      "William Mead 1627\n",
      "Henry Pickworth 1673\n",
      "John Crook 1616\n",
      "Gilbert Latey 1626\n",
      "Ellis Hookes 1635\n",
      "Joseph Besse 1683\n",
      "James Nayler 1618\n",
      "Elizabeth Hooten 1562\n",
      "George Whitehead 1637\n",
      "John Whitehead 1630\n",
      "William Crouch 1628\n",
      "Benjamin Furly 1636\n",
      "Silvanus Bevan 1691\n",
      "Robert Rich 1607\n",
      "John Whiting 1656\n",
      "Christopher Taylor 1614\n",
      "Thomas Lawson 1630\n",
      "Richard Farnworth 1630\n",
      "William Coddington 1601\n",
      "Thomas Taylor 1617\n",
      "Richard Vickris 1590\n",
      "Robert Barclay 1648\n",
      "Jane Sowle 1631\n",
      "Tace Sowle 1666\n",
      "Leonard Fell 1624\n",
      "Margaret Fell 1614\n",
      "George Bishop 1558\n",
      "Elizabeth Leavens 1555\n",
      "Thomas Curtis 1602\n",
      "Alice Curwen 1619\n",
      "Alexander Parker 1628\n",
      "John Wilkinson 1652\n",
      "Thomas Aldam 1616\n",
      "David Barclay of Ury 1610\n",
      "David Barclay 1682\n",
      "Sir Charles Wager 1666\n",
      "George Keith 1638\n",
      "James Parnel 1636\n",
      "Peter Collinson 1694\n",
      "Franciscus Mercurius van Helmont 1614\n",
      "William Caton 1636\n",
      "Francis Howgill 1618\n",
      "Richard Hubberthorne 1628\n",
      "William Ames 1552\n",
      "William Rogers 1601\n",
      "Isaac Norris 1671\n",
      "Anthony Sharp 1643\n",
      "Mary Fisher 1623\n",
      "Anne Conway Viscountess Conway and Killultagh 1631\n",
      "Samuel Fisher 1604\n",
      "Francis Bugg 1640\n",
      "Sarah Gibbons 1634\n",
      "William Tomlinson 1650\n",
      "Humphrey Norton 1655\n",
      "William Gibson 1628\n",
      "Gideon Wanton 1693\n",
      "John Wanton 1672\n",
      "Grace Chamber 1676\n",
      "Mary Prince 1569\n",
      "John Bartram 1699\n",
      "Edward Haistwell 1658\n",
      "John ap John 1625\n",
      "John Rous 1585\n",
      "Anthony Pearson 1627\n",
      "Solomon Eccles 1617\n",
      "John Burnyeat 1631\n",
      "Edward Burrough 1633\n",
      "Rebecca Travers 1609\n",
      "William Edmundson 1627\n",
      "Sarah Cheevers 1608\n",
      "Edward Pyott 1560\n",
      "Daniel Quare 1648\n",
      "John Penington 1655\n",
      "Mary Penington 1623\n",
      "Charles Marshall 1637\n",
      "Humphrey Woolrich 1633\n",
      "William Penn 1644\n",
      "Mary Pennyman 1630\n",
      "Dorothy Waugh 1636\n",
      "David Lloyd 1656\n",
      "Lewis Morris 1671\n",
      "Martha Simmonds 1624\n",
      "John Story 1571\n",
      "Thomas Story 1670\n",
      "Thomas Ellwood 1639\n",
      "William Simpson 1627\n",
      "Samuel Bownas 1677\n",
      "John Perrot 1555\n",
      "Hannah Stranger 1656\n"
     ]
    }
   ],
   "source": [
    "for n in G.nodes(): # Loop through every node, in our data \"n\" = name \n",
    "    print(n, G.node[n]['birth_year']) # Access every node by its name by the attribute \"birth_year\"\n"
   ]
  },
  {
   "cell_type": "code",
   "execution_count": 13,
   "metadata": {
    "ExecuteTime": {
     "end_time": "2018-08-02T20:53:01.778882Z",
     "start_time": "2018-08-02T20:53:01.772097Z"
    }
   },
   "outputs": [
    {
     "name": "stdout",
     "output_type": "stream",
     "text": [
      "Network density: 0.02478279447372169\n"
     ]
    }
   ],
   "source": [
    "density = nx.density(G)\n",
    "print(\"Network density:\", density)\n"
   ]
  },
  {
   "cell_type": "code",
   "execution_count": 14,
   "metadata": {
    "ExecuteTime": {
     "end_time": "2018-08-02T20:53:07.004024Z",
     "start_time": "2018-08-02T20:53:06.999429Z"
    }
   },
   "outputs": [
    {
     "name": "stdout",
     "output_type": "stream",
     "text": [
      "Shortest path between Fell and Whitehead: ['Margaret Fell', 'George Fox', 'George Whitehead']\n"
     ]
    }
   ],
   "source": [
    "fell_whitehead_path = nx.shortest_path(G, source=\"Margaret Fell\", target=\"George Whitehead\")\n",
    "\n",
    "print(\"Shortest path between Fell and Whitehead:\", fell_whitehead_path)"
   ]
  },
  {
   "cell_type": "code",
   "execution_count": 15,
   "metadata": {
    "ExecuteTime": {
     "end_time": "2018-08-02T20:53:08.972543Z",
     "start_time": "2018-08-02T20:53:08.961791Z"
    }
   },
   "outputs": [
    {
     "name": "stdout",
     "output_type": "stream",
     "text": [
      "[['Margaret Fell', 'George Fox', 'George Whitehead'], ['Margaret Fell', 'James Nayler', 'George Whitehead'], ['Margaret Fell', 'William Penn', 'George Whitehead'], ['Margaret Fell', 'Alexander Parker', 'George Whitehead']]\n"
     ]
    }
   ],
   "source": [
    "print([p for p in nx.all_shortest_paths(G, source=\"Margaret Fell\", target=\"George Whitehead\")])"
   ]
  },
  {
   "cell_type": "code",
   "execution_count": 16,
   "metadata": {
    "ExecuteTime": {
     "end_time": "2018-08-02T20:53:12.700987Z",
     "start_time": "2018-08-02T20:53:12.696388Z"
    }
   },
   "outputs": [
    {
     "name": "stdout",
     "output_type": "stream",
     "text": [
      "['Margaret Fell', 'George Fox', 'George Whitehead']\n"
     ]
    }
   ],
   "source": [
    "print(nx.astar_path(G, source=\"Margaret Fell\", target=\"George Whitehead\"))"
   ]
  },
  {
   "cell_type": "code",
   "execution_count": 17,
   "metadata": {
    "ExecuteTime": {
     "end_time": "2018-08-02T20:53:14.293527Z",
     "start_time": "2018-08-02T20:53:14.290250Z"
    }
   },
   "outputs": [],
   "source": [
    "from networkx.algorithms.connectivity import local_node_connectivity\n",
    "import itertools"
   ]
  },
  {
   "cell_type": "code",
   "execution_count": 18,
   "metadata": {
    "ExecuteTime": {
     "end_time": "2018-08-02T20:53:15.780075Z",
     "start_time": "2018-08-02T20:53:15.743595Z"
    }
   },
   "outputs": [
    {
     "data": {
      "text/plain": [
       "6"
      ]
     },
     "execution_count": 18,
     "metadata": {},
     "output_type": "execute_result"
    }
   ],
   "source": [
    "nx.node_connectivity(G, s=\"Margaret Fell\", t=\"George Whitehead\")"
   ]
  },
  {
   "cell_type": "code",
   "execution_count": 19,
   "metadata": {
    "ExecuteTime": {
     "end_time": "2018-08-02T20:53:21.923232Z",
     "start_time": "2018-08-02T20:53:21.904497Z"
    }
   },
   "outputs": [
    {
     "data": {
      "text/plain": [
       "6"
      ]
     },
     "execution_count": 19,
     "metadata": {},
     "output_type": "execute_result"
    }
   ],
   "source": [
    "from networkx.algorithms.flow import shortest_augmenting_path\n",
    "nx.node_connectivity(G, s=\"Margaret Fell\", t=\"George Whitehead\", flow_func=shortest_augmenting_path)"
   ]
  },
  {
   "cell_type": "code",
   "execution_count": 36,
   "metadata": {
    "ExecuteTime": {
     "end_time": "2018-08-02T20:59:13.444120Z",
     "start_time": "2018-08-02T20:59:13.410694Z"
    }
   },
   "outputs": [
    {
     "name": "stdout",
     "output_type": "stream",
     "text": [
      "['William Penn', 'George Fox']\n"
     ]
    },
    {
     "data": {
      "text/plain": [
       "9"
      ]
     },
     "execution_count": 36,
     "metadata": {},
     "output_type": "execute_result"
    }
   ],
   "source": [
    "penn_fox_path = nx.shortest_path(G,source= \"William Penn\", target=\"George Fox\")\n",
    "print(penn_fox_path)\n",
    "nx.node_connectivity(G, s=\"William Penn\", t=\"George Fox\", flow_func=shortest_augmenting_path)"
   ]
  },
  {
   "cell_type": "code",
   "execution_count": 37,
   "metadata": {
    "ExecuteTime": {
     "end_time": "2018-08-02T20:59:15.649475Z",
     "start_time": "2018-08-02T20:59:15.641572Z"
    }
   },
   "outputs": [
    {
     "name": "stdout",
     "output_type": "stream",
     "text": [
      "Length of that path: 2\n",
      "Length of that path: 1\n"
     ]
    }
   ],
   "source": [
    "print(\"Length of that path:\", len(fell_whitehead_path)-1)\n",
    "print(\"Length of that path:\", len(penn_fox_path)-1)"
   ]
  },
  {
   "cell_type": "code",
   "execution_count": 38,
   "metadata": {
    "ExecuteTime": {
     "end_time": "2018-08-02T20:59:20.800942Z",
     "start_time": "2018-08-02T20:59:20.607612Z"
    }
   },
   "outputs": [
    {
     "name": "stdout",
     "output_type": "stream",
     "text": [
      "False\n",
      "{'James Claypoole', 'Anne Conway Viscountess Conway and Killultagh', 'John Swinton', 'Stephen Crisp', 'Richard Claridge', 'John Audland', 'John Whitehead', 'Daniel Quare', 'William Simpson', 'Tace Sowle', 'Samuel Fisher', 'Elizabeth Hooten', 'James Parnel', 'Mary Penington', 'Anthony Pearson', 'Gilbert Latey', 'Anne Camm', 'William Coddington', 'William Ames', 'John Story', 'William Gibson', 'John Bartram', 'Anthony Sharp', 'William Bradford', 'Joseph Besse', 'Thomas Aldam', 'Martha Simmonds', 'William Rogers', 'Solomon Eccles', 'George Fox', 'John Penington', 'William Crouch', 'Benjamin Furly', 'John Stubbs', 'Thomas Camm', 'Mary Prince', 'Francis Howgill', 'Silvanus Bevan', 'Isaac Norris', 'Leonard Fell', 'Edward Haistwell', 'David Barclay of Ury', 'Joseph Wyeth', 'Richard Farnworth', 'John Perrot', 'John Wilkinson', 'William Dewsbury', 'Elizabeth Leavens', 'Peter Collinson', 'Thomas Holme', 'George Whitehead', 'Rebecca Travers', 'William Edmundson', 'John Crook', 'Henry Pickworth', 'Thomas Story', 'Alice Curwen', 'John Burnyeat', 'Charles Marshall', 'George Keith', 'Edward Pyott', 'Gervase Benson', 'James Nayler', 'Richard Hubberthorne', 'Jane Sowle', 'Edward Burrough', 'Thomas Ellwood', 'Robert Rich', 'Thomas Salthouse', 'Mary Fisher', 'Samuel Clarridge', 'Thomas Lower', 'George Fox the younger', 'James Logan', 'Isabel Yeamans', 'John Camm', 'Lewis Morris', 'Francis Bugg', 'Sir Charles Wager', 'Alexander Parker', 'William Caton', 'John ap John', 'William Tomlinson', 'Franciscus Mercurius van Helmont', 'William Mucklow', 'Samuel Bownas', 'Thomas Curtis', 'William Mead', 'Hannah Stranger', 'Margaret Fell', 'Robert Barclay', 'David Lloyd', 'Dorcas Erbery', 'William Penn', 'Ellis Hookes', 'Thomas Lawson'}\n",
      "Network diameter of largest component: 8\n"
     ]
    }
   ],
   "source": [
    "# If your Graph has more than one component, this will return False:\n",
    "print(nx.is_connected(G))\n",
    "\n",
    "# Next, use nx.connected_components to get the list of components,\n",
    "# then use the max() command to find the largest one:\n",
    "components = nx.connected_components(G)\n",
    "largest_component = max(components, key=len)\n",
    "print(largest_component)\n",
    "\n",
    "# Create a \"subgraph\" of just the largest component\n",
    "# Then calculate the diameter of the subgraph, just like you did with density.\n",
    "#\n",
    "\n",
    "subgraph = G.subgraph(largest_component)\n",
    "diameter = nx.diameter(subgraph)\n",
    "print(\"Network diameter of largest component:\", diameter)\n"
   ]
  },
  {
   "cell_type": "markdown",
   "metadata": {},
   "source": [
    "By seeing the number of connections/degrees we can tell if it's directed or not. \n",
    "Density: ratio of actual edges in the network to all possible edges in the network\n",
    "Basic information on the dataset:\n",
    "network is undirected, thus, must use metrics that require symmetric edges between nodes"
   ]
  },
  {
   "cell_type": "code",
   "execution_count": 39,
   "metadata": {
    "ExecuteTime": {
     "end_time": "2018-08-02T20:59:26.833407Z",
     "start_time": "2018-08-02T20:59:26.817001Z"
    }
   },
   "outputs": [
    {
     "name": "stdout",
     "output_type": "stream",
     "text": [
      "Triadic closure: 0.16937799043062202\n"
     ]
    }
   ],
   "source": [
    "triadic_closure = nx.transitivity(G)\n",
    "print(\"Triadic closure:\", triadic_closure)\n"
   ]
  },
  {
   "cell_type": "code",
   "execution_count": 40,
   "metadata": {
    "ExecuteTime": {
     "end_time": "2018-08-02T20:59:27.630112Z",
     "start_time": "2018-08-02T20:59:27.618200Z"
    }
   },
   "outputs": [
    {
     "name": "stdout",
     "output_type": "stream",
     "text": [
      "{'historical_significance': 'Quaker leader and founder of Pennsylvania', 'gender': 'male', 'birth_year': '1644', 'death_year': '1718', 'sdfb_id': '10009531', 'degree': 18}\n"
     ]
    }
   ],
   "source": [
    "degree_dict = dict(G.degree(G.nodes()))\n",
    "nx.set_node_attributes(G, degree_dict, 'degree')\n",
    "\n",
    "print(G.node['William Penn'])\n"
   ]
  },
  {
   "cell_type": "code",
   "execution_count": 41,
   "metadata": {
    "ExecuteTime": {
     "end_time": "2018-08-02T20:59:32.357858Z",
     "start_time": "2018-08-02T20:59:32.351051Z"
    }
   },
   "outputs": [],
   "source": [
    "sorted_degree = sorted(degree_dict.items(), key=itemgetter(1), reverse=True)"
   ]
  },
  {
   "cell_type": "code",
   "execution_count": 42,
   "metadata": {
    "ExecuteTime": {
     "end_time": "2018-08-02T20:59:34.003767Z",
     "start_time": "2018-08-02T20:59:33.988629Z"
    }
   },
   "outputs": [
    {
     "name": "stdout",
     "output_type": "stream",
     "text": [
      "Top 20 nodes by degree:\n",
      "('George Fox', 22)\n",
      "('William Penn', 18)\n",
      "('James Nayler', 16)\n",
      "('George Whitehead', 13)\n",
      "('Margaret Fell', 13)\n",
      "('Benjamin Furly', 10)\n",
      "('Edward Burrough', 9)\n",
      "('George Keith', 8)\n",
      "('Thomas Ellwood', 8)\n",
      "('Francis Howgill', 7)\n",
      "('John Perrot', 7)\n",
      "('John Audland', 6)\n",
      "('Richard Farnworth', 6)\n",
      "('Alexander Parker', 6)\n",
      "('John Story', 6)\n",
      "('John Stubbs', 5)\n",
      "('Thomas Curtis', 5)\n",
      "('John Wilkinson', 5)\n",
      "('William Caton', 5)\n",
      "('Anthony Pearson', 5)\n"
     ]
    }
   ],
   "source": [
    "print(\"Top 20 nodes by degree:\")\n",
    "for d in sorted_degree[:20]:\n",
    "    print(d)\n"
   ]
  },
  {
   "cell_type": "code",
   "execution_count": 43,
   "metadata": {
    "ExecuteTime": {
     "end_time": "2018-08-02T20:59:36.098158Z",
     "start_time": "2018-08-02T20:59:35.955846Z"
    }
   },
   "outputs": [],
   "source": [
    "betweenness_dict = nx.betweenness_centrality(G) # Run betweenness centrality\n",
    "eigenvector_dict = nx.eigenvector_centrality(G) # Run eigenvector centrality\n",
    "\n",
    "# Assign each to an attribute in your network\n",
    "nx.set_node_attributes(G, betweenness_dict, 'betweenness')\n",
    "nx.set_node_attributes(G, eigenvector_dict, 'eigenvector')\n"
   ]
  },
  {
   "cell_type": "code",
   "execution_count": 44,
   "metadata": {
    "ExecuteTime": {
     "end_time": "2018-08-02T20:59:45.951163Z",
     "start_time": "2018-08-02T20:59:45.937401Z"
    }
   },
   "outputs": [
    {
     "name": "stdout",
     "output_type": "stream",
     "text": [
      "Top 20 nodes by betweenness centrality:\n",
      "('William Penn', 0.23999456006192205)\n",
      "('George Fox', 0.23683257726065216)\n",
      "('George Whitehead', 0.12632024847366005)\n",
      "('Margaret Fell', 0.12106792237170329)\n",
      "('James Nayler', 0.10446026280446098)\n",
      "('Benjamin Furly', 0.06419626175167242)\n",
      "('Thomas Ellwood', 0.046190623885104545)\n",
      "('George Keith', 0.045006564009171565)\n",
      "('John Audland', 0.04164936340077581)\n",
      "('Alexander Parker', 0.03893676140525336)\n",
      "('John Story', 0.028990098622866983)\n",
      "('John Burnyeat', 0.028974117533439564)\n",
      "('John Perrot', 0.02829566854990583)\n",
      "('James Logan', 0.026944806605823553)\n",
      "('Richard Claridge', 0.026944806605823553)\n",
      "('Robert Barclay', 0.026944806605823553)\n",
      "('Elizabeth Leavens', 0.026944806605823553)\n",
      "('Thomas Curtis', 0.026729751729751724)\n",
      "('John Stubbs', 0.024316593960227152)\n",
      "('Mary Penington', 0.02420824624214454)\n"
     ]
    }
   ],
   "source": [
    "sorted_betweenness = sorted(betweenness_dict.items(), key=itemgetter(1), reverse=True)\n",
    "\n",
    "print(\"Top 20 nodes by betweenness centrality:\")\n",
    "for b in sorted_betweenness[:20]:\n",
    "    print(b)\n"
   ]
  },
  {
   "cell_type": "code",
   "execution_count": 45,
   "metadata": {
    "ExecuteTime": {
     "end_time": "2018-08-02T20:59:55.914581Z",
     "start_time": "2018-08-02T20:59:55.889462Z"
    }
   },
   "outputs": [
    {
     "name": "stdout",
     "output_type": "stream",
     "text": [
      "Name: William Penn | Betweenness Centrality: 0.23999456006192205 | Degree: 18\n",
      "Name: George Fox | Betweenness Centrality: 0.23683257726065216 | Degree: 22\n",
      "Name: George Whitehead | Betweenness Centrality: 0.12632024847366005 | Degree: 13\n",
      "Name: Margaret Fell | Betweenness Centrality: 0.12106792237170329 | Degree: 13\n",
      "Name: James Nayler | Betweenness Centrality: 0.10446026280446098 | Degree: 16\n",
      "Name: Benjamin Furly | Betweenness Centrality: 0.06419626175167242 | Degree: 10\n",
      "Name: Thomas Ellwood | Betweenness Centrality: 0.046190623885104545 | Degree: 8\n",
      "Name: George Keith | Betweenness Centrality: 0.045006564009171565 | Degree: 8\n",
      "Name: John Audland | Betweenness Centrality: 0.04164936340077581 | Degree: 6\n",
      "Name: Alexander Parker | Betweenness Centrality: 0.03893676140525336 | Degree: 6\n",
      "Name: John Story | Betweenness Centrality: 0.028990098622866983 | Degree: 6\n",
      "Name: John Burnyeat | Betweenness Centrality: 0.028974117533439564 | Degree: 4\n",
      "Name: John Perrot | Betweenness Centrality: 0.02829566854990583 | Degree: 7\n",
      "Name: James Logan | Betweenness Centrality: 0.026944806605823553 | Degree: 4\n",
      "Name: Richard Claridge | Betweenness Centrality: 0.026944806605823553 | Degree: 2\n",
      "Name: Robert Barclay | Betweenness Centrality: 0.026944806605823553 | Degree: 3\n",
      "Name: Elizabeth Leavens | Betweenness Centrality: 0.026944806605823553 | Degree: 2\n",
      "Name: Thomas Curtis | Betweenness Centrality: 0.026729751729751724 | Degree: 5\n",
      "Name: John Stubbs | Betweenness Centrality: 0.024316593960227152 | Degree: 5\n",
      "Name: Mary Penington | Betweenness Centrality: 0.02420824624214454 | Degree: 4\n"
     ]
    }
   ],
   "source": [
    "#First get the top 20 nodes by betweenness as a list\n",
    "top_betweenness = sorted_betweenness[:20]\n",
    "\n",
    "#Then find and print their degree\n",
    "for tb in top_betweenness: # Loop through top_betweenness\n",
    "    degree = degree_dict[tb[0]] # Use degree_dict to access a node's degree, see footnote 2\n",
    "    print(\"Name:\", tb[0], \"| Betweenness Centrality:\", tb[1], \"| Degree:\", degree)\n"
   ]
  },
  {
   "cell_type": "code",
   "execution_count": 46,
   "metadata": {
    "ExecuteTime": {
     "end_time": "2018-08-02T21:00:02.899978Z",
     "start_time": "2018-08-02T21:00:02.865233Z"
    }
   },
   "outputs": [
    {
     "data": {
      "text/plain": [
       "8"
      ]
     },
     "execution_count": 46,
     "metadata": {},
     "output_type": "execute_result"
    }
   ],
   "source": [
    "nx.node_connectivity(G, s=\"William Penn\", t=\"George Whitehead\", flow_func=shortest_augmenting_path)"
   ]
  },
  {
   "cell_type": "code",
   "execution_count": 49,
   "metadata": {
    "ExecuteTime": {
     "end_time": "2018-08-02T21:04:08.952251Z",
     "start_time": "2018-08-02T21:04:08.936234Z"
    }
   },
   "outputs": [
    {
     "data": {
      "text/plain": [
       "True"
      ]
     },
     "execution_count": 49,
     "metadata": {},
     "output_type": "execute_result"
    }
   ],
   "source": [
    "nx.has_bridges(G)"
   ]
  },
  {
   "cell_type": "code",
   "execution_count": 48,
   "metadata": {
    "ExecuteTime": {
     "end_time": "2018-08-02T21:03:51.884209Z",
     "start_time": "2018-08-02T21:03:51.858228Z"
    }
   },
   "outputs": [
    {
     "data": {
      "text/plain": [
       "[('Joseph Wyeth', 'Thomas Ellwood'),\n",
       " ('Alexander Skene of Newtyle', 'Lilias Skene'),\n",
       " ('Dorcas Erbery', 'James Nayler'),\n",
       " ('William Mucklow', 'George Fox'),\n",
       " ('Richard Claridge', 'Joseph Besse'),\n",
       " ('Richard Claridge', 'William Penn'),\n",
       " ('Fettiplace Bellers', 'John Bellers'),\n",
       " ('Isabel Yeamans', 'William Penn'),\n",
       " ('George Fox the younger', 'Margaret Fell'),\n",
       " ('George Fox', 'Ellis Hookes'),\n",
       " ('George Fox', 'Elizabeth Hooten'),\n",
       " ('George Fox', 'William Coddington'),\n",
       " ('George Fox', 'Leonard Fell'),\n",
       " ('John Stubbs', 'Samuel Fisher'),\n",
       " ('Katharine Evans', 'Sarah Cheevers'),\n",
       " ('Lydia Lancaster', 'Grace Chamber'),\n",
       " ('Thomas Lower', 'Margaret Fell'),\n",
       " ('Thomas Holme', 'William Gibson'),\n",
       " ('Thomas Holme', 'Elizabeth Leavens'),\n",
       " ('John Freame', 'David Barclay'),\n",
       " ('John Swinton', 'David Barclay of Ury'),\n",
       " ('Henry Pickworth', 'Francis Bugg'),\n",
       " ('Joseph Besse', 'Samuel Bownas'),\n",
       " ('George Whitehead', 'Francis Bugg'),\n",
       " ('George Whitehead', 'John Whitehead'),\n",
       " ('George Whitehead', 'Daniel Quare'),\n",
       " ('Silvanus Bevan', 'Daniel Quare'),\n",
       " ('John Whiting', 'Christopher Taylor'),\n",
       " ('Christopher Taylor', 'Thomas Taylor'),\n",
       " ('Richard Vickris', 'George Bishop'),\n",
       " ('Robert Barclay', 'David Barclay of Ury'),\n",
       " ('Jane Sowle', 'Tace Sowle'),\n",
       " ('Margaret Fell', 'Elizabeth Leavens'),\n",
       " ('Thomas Curtis', 'William Simpson'),\n",
       " ('Alice Curwen', 'Rebecca Travers'),\n",
       " ('Alexander Parker', 'Sir Charles Wager'),\n",
       " ('Thomas Aldam', 'Anthony Pearson'),\n",
       " ('Sir Charles Wager', 'Lewis Morris'),\n",
       " ('George Keith', 'Anne Conway Viscountess Conway and Killultagh'),\n",
       " ('William Caton', 'William Ames'),\n",
       " ('Isaac Norris', 'William Penn'),\n",
       " ('Sarah Gibbons', 'Dorothy Waugh'),\n",
       " ('Humphrey Norton', 'John Rous'),\n",
       " ('Gideon Wanton', 'John Wanton'),\n",
       " ('Edward Haistwell', 'William Penn'),\n",
       " ('John ap John', 'John Burnyeat'),\n",
       " ('John Penington', 'Mary Penington'),\n",
       " ('Humphrey Woolrich', 'Mary Pennyman'),\n",
       " ('William Penn', 'Thomas Story')]"
      ]
     },
     "execution_count": 48,
     "metadata": {},
     "output_type": "execute_result"
    }
   ],
   "source": [
    "\n",
    "list(nx.bridges(G))"
   ]
  },
  {
   "cell_type": "code",
   "execution_count": 100,
   "metadata": {
    "ExecuteTime": {
     "end_time": "2018-08-02T21:34:17.112497Z",
     "start_time": "2018-08-02T21:34:17.105045Z"
    }
   },
   "outputs": [],
   "source": [
    "from collections import deque\n",
    "def breadth_first_search(g, source): \n",
    "    queue = deque([(None, source)]) \n",
    "    enqueued = set([source]) \n",
    "    while queue:\n",
    "        parent,n = queue.popleft() \n",
    "    yield  parent,n\n",
    "    new = set(g[n]) \n",
    "\n",
    "    enqueued \n",
    "    enqueued |= new \n",
    "    queue.extend([(n, child) for child in new])"
   ]
  },
  {
   "cell_type": "code",
   "execution_count": 124,
   "metadata": {
    "ExecuteTime": {
     "end_time": "2018-08-02T21:46:27.986357Z",
     "start_time": "2018-08-02T21:46:27.977522Z"
    }
   },
   "outputs": [
    {
     "data": {
      "text/plain": [
       "<generator object breadth_first_search at 0x11765ea40>"
      ]
     },
     "execution_count": 124,
     "metadata": {},
     "output_type": "execute_result"
    }
   ],
   "source": [
    "breadth_first_search(G, source= 'William Penn')"
   ]
  },
  {
   "cell_type": "raw",
   "metadata": {},
   "source": []
  },
  {
   "cell_type": "code",
   "execution_count": 101,
   "metadata": {
    "ExecuteTime": {
     "end_time": "2018-08-02T21:34:57.073250Z",
     "start_time": "2018-08-02T21:34:57.066660Z"
    }
   },
   "outputs": [],
   "source": [
    "def get_triangles(g):\n",
    "    for n1 in g.nodes:\n",
    "        neighbors1 = set(g[n1])\n",
    "        for n2 in filter(lambda x: x>n1, nodes):\n",
    "            neighbors2 = set(g[n2]) \n",
    "            common = neighbors1 & neighbors2\n",
    "            for n3 in filter(lambda x: x>n2, common):\n",
    "                yield n1,n2,n3"
   ]
  },
  {
   "cell_type": "code",
   "execution_count": 126,
   "metadata": {
    "ExecuteTime": {
     "end_time": "2018-08-02T21:47:10.385557Z",
     "start_time": "2018-08-02T21:47:10.377968Z"
    }
   },
   "outputs": [
    {
     "name": "stdout",
     "output_type": "stream",
     "text": [
      "<generator object get_triangles at 0x11765ed00>\n"
     ]
    }
   ],
   "source": [
    "get_triangles(G)"
   ]
  },
  {
   "cell_type": "code",
   "execution_count": 121,
   "metadata": {
    "ExecuteTime": {
     "end_time": "2018-08-02T21:45:06.166919Z",
     "start_time": "2018-08-02T21:45:06.158546Z"
    }
   },
   "outputs": [],
   "source": [
    "def avg_neigh_degree(g):\n",
    "    data = {}\n",
    "    for n in g.nodes():\n",
    "        if g.degree(n):\n",
    "            data[n] = float(sum(g.degree(i) for i in g[n]))\n",
    "            g.degree(n)\n",
    "            return data\n",
    "def avg_neigh_degree(g):\n",
    "     return dict((n,float(sum(g.degree(i) for i in g[n]))/\n",
    "g.degree(n))  for n in g.nodes() if g.degree(n))"
   ]
  },
  {
   "cell_type": "code",
   "execution_count": 122,
   "metadata": {
    "ExecuteTime": {
     "end_time": "2018-08-02T21:45:24.010635Z",
     "start_time": "2018-08-02T21:45:23.986407Z"
    }
   },
   "outputs": [
    {
     "data": {
      "text/plain": [
       "{'Joseph Wyeth': 8.0,\n",
       " 'Alexander Skene of Newtyle': 1.0,\n",
       " 'James Logan': 6.0,\n",
       " 'Dorcas Erbery': 16.0,\n",
       " 'Lilias Skene': 1.0,\n",
       " 'William Mucklow': 22.0,\n",
       " 'Thomas Salthouse': 17.5,\n",
       " 'William Dewsbury': 11.666666666666666,\n",
       " 'John Audland': 6.666666666666667,\n",
       " 'Richard Claridge': 10.0,\n",
       " 'William Bradford': 9.666666666666666,\n",
       " 'Fettiplace Bellers': 1.0,\n",
       " 'John Bellers': 1.0,\n",
       " 'Isabel Yeamans': 18.0,\n",
       " 'George Fox the younger': 13.0,\n",
       " 'George Fox': 6.409090909090909,\n",
       " 'John Stubbs': 8.4,\n",
       " 'Anne Camm': 4.5,\n",
       " 'John Camm': 3.5,\n",
       " 'Thomas Camm': 4.0,\n",
       " 'Katharine Evans': 1.0,\n",
       " 'Lydia Lancaster': 1.0,\n",
       " 'Samuel Clarridge': 2.5,\n",
       " 'Thomas Lower': 13.0,\n",
       " 'Gervase Benson': 10.5,\n",
       " 'Stephen Crisp': 5.666666666666667,\n",
       " 'James Claypoole': 10.0,\n",
       " 'Thomas Holme': 1.5,\n",
       " 'John Freame': 1.0,\n",
       " 'John Swinton': 2.0,\n",
       " 'William Mead': 17.5,\n",
       " 'Henry Pickworth': 2.0,\n",
       " 'John Crook': 10.25,\n",
       " 'Gilbert Latey': 11.0,\n",
       " 'Ellis Hookes': 22.0,\n",
       " 'Joseph Besse': 1.5,\n",
       " 'James Nayler': 6.625,\n",
       " 'Elizabeth Hooten': 22.0,\n",
       " 'George Whitehead': 7.0,\n",
       " 'John Whitehead': 13.0,\n",
       " 'William Crouch': 8.0,\n",
       " 'Benjamin Furly': 7.4,\n",
       " 'Silvanus Bevan': 2.0,\n",
       " 'Robert Rich': 9.0,\n",
       " 'John Whiting': 2.0,\n",
       " 'Christopher Taylor': 1.0,\n",
       " 'Thomas Lawson': 9.5,\n",
       " 'Richard Farnworth': 8.333333333333334,\n",
       " 'William Coddington': 22.0,\n",
       " 'Thomas Taylor': 2.0,\n",
       " 'Richard Vickris': 1.0,\n",
       " 'Robert Barclay': 6.666666666666667,\n",
       " 'Jane Sowle': 3.0,\n",
       " 'Tace Sowle': 7.333333333333333,\n",
       " 'Leonard Fell': 22.0,\n",
       " 'Margaret Fell': 6.769230769230769,\n",
       " 'George Bishop': 1.0,\n",
       " 'Elizabeth Leavens': 7.5,\n",
       " 'Thomas Curtis': 4.4,\n",
       " 'Alice Curwen': 4.0,\n",
       " 'Alexander Parker': 7.5,\n",
       " 'John Wilkinson': 7.8,\n",
       " 'Thomas Aldam': 5.0,\n",
       " 'David Barclay of Ury': 2.0,\n",
       " 'David Barclay': 1.0,\n",
       " 'Sir Charles Wager': 3.5,\n",
       " 'George Keith': 9.0,\n",
       " 'James Parnel': 6.5,\n",
       " 'Peter Collinson': 3.0,\n",
       " 'Franciscus Mercurius van Helmont': 9.0,\n",
       " 'William Caton': 6.4,\n",
       " 'Francis Howgill': 9.142857142857142,\n",
       " 'Richard Hubberthorne': 9.5,\n",
       " 'William Ames': 5.0,\n",
       " 'William Rogers': 10.5,\n",
       " 'Isaac Norris': 18.0,\n",
       " 'Anthony Sharp': 3.0,\n",
       " 'Mary Fisher': 4.5,\n",
       " 'Anne Conway Viscountess Conway and Killultagh': 8.0,\n",
       " 'Samuel Fisher': 5.0,\n",
       " 'Francis Bugg': 7.0,\n",
       " 'Sarah Gibbons': 1.0,\n",
       " 'William Tomlinson': 9.0,\n",
       " 'Humphrey Norton': 1.0,\n",
       " 'William Gibson': 2.0,\n",
       " 'Gideon Wanton': 1.0,\n",
       " 'John Wanton': 1.0,\n",
       " 'Grace Chamber': 1.0,\n",
       " 'Mary Prince': 4.5,\n",
       " 'John Bartram': 3.0,\n",
       " 'Edward Haistwell': 18.0,\n",
       " 'John ap John': 4.0,\n",
       " 'John Rous': 1.0,\n",
       " 'Anthony Pearson': 7.6,\n",
       " 'Solomon Eccles': 5.5,\n",
       " 'John Burnyeat': 6.5,\n",
       " 'Edward Burrough': 7.888888888888889,\n",
       " 'Rebecca Travers': 12.0,\n",
       " 'William Edmundson': 3.5,\n",
       " 'Sarah Cheevers': 1.0,\n",
       " 'Edward Pyott': 5.0,\n",
       " 'Daniel Quare': 7.0,\n",
       " 'John Penington': 4.0,\n",
       " 'Mary Penington': 8.0,\n",
       " 'Charles Marshall': 5.0,\n",
       " 'Humphrey Woolrich': 1.0,\n",
       " 'William Penn': 5.444444444444445,\n",
       " 'Mary Pennyman': 1.0,\n",
       " 'Dorothy Waugh': 1.0,\n",
       " 'David Lloyd': 11.0,\n",
       " 'Lewis Morris': 2.0,\n",
       " 'Martha Simmonds': 8.333333333333334,\n",
       " 'John Story': 6.0,\n",
       " 'Thomas Story': 18.0,\n",
       " 'Thomas Ellwood': 8.125,\n",
       " 'William Simpson': 5.0,\n",
       " 'Samuel Bownas': 2.0,\n",
       " 'John Perrot': 8.714285714285714,\n",
       " 'Hannah Stranger': 9.5}"
      ]
     },
     "execution_count": 122,
     "metadata": {},
     "output_type": "execute_result"
    }
   ],
   "source": [
    "avg_neigh_degree(G)"
   ]
  },
  {
   "cell_type": "code",
   "execution_count": null,
   "metadata": {},
   "outputs": [],
   "source": []
  },
  {
   "cell_type": "code",
   "execution_count": null,
   "metadata": {},
   "outputs": [],
   "source": []
  },
  {
   "cell_type": "code",
   "execution_count": 107,
   "metadata": {
    "ExecuteTime": {
     "end_time": "2018-08-02T21:37:08.023771Z",
     "start_time": "2018-08-02T21:37:08.007864Z"
    }
   },
   "outputs": [
    {
     "name": "stdout",
     "output_type": "stream",
     "text": [
      "Nodes:  212\n",
      "Edges:  337\n",
      "Average degree:  1.5896226415094339\n"
     ]
    }
   ],
   "source": [
    "hartford = nx.read_edgelist('hartford.txt',\n",
    "        create_using=nx.DiGraph(),nodetype=int)\n",
    "N,K = hartford.order(), hartford.size()\n",
    "avg_deg = float(K)/N\n",
    "print (\"Nodes: \", N)\n",
    "print (\"Edges: \", K)\n",
    "print (\"Average degree: \", avg_deg)"
   ]
  },
  {
   "cell_type": "code",
   "execution_count": 128,
   "metadata": {
    "ExecuteTime": {
     "end_time": "2018-08-02T21:49:17.129087Z",
     "start_time": "2018-08-02T21:49:17.103718Z"
    }
   },
   "outputs": [
    {
     "data": {
      "text/plain": [
       "{1: 2.4,\n",
       " 2: 1.8333333333333333,\n",
       " 10: 1.8333333333333333,\n",
       " 3: 1.5,\n",
       " 7: 2.1666666666666665,\n",
       " 4: 1.4,\n",
       " 209: 0.0,\n",
       " 5: 5.0,\n",
       " 132: 3.2,\n",
       " 6: 1.5,\n",
       " 150: 1.6666666666666667,\n",
       " 9: 4.25,\n",
       " 8: 2.25,\n",
       " 106: 1.6,\n",
       " 115: 0.0,\n",
       " 11: 4.0,\n",
       " 133: 5.5,\n",
       " 218: 1.6666666666666667,\n",
       " 12: 2.0,\n",
       " 88: 0.0,\n",
       " 13: 2.5,\n",
       " 214: 3.4,\n",
       " 14: 2.0,\n",
       " 24: 3.8,\n",
       " 52: 2.3333333333333335,\n",
       " 16: 3.3333333333333335,\n",
       " 19: 1.25,\n",
       " 17: 7.5,\n",
       " 64: 2.0,\n",
       " 78: 5.666666666666667,\n",
       " 18: 3.8,\n",
       " 55: 2.625,\n",
       " 103: 1.5,\n",
       " 163: 0.0,\n",
       " 20: 2.5,\n",
       " 180: 0.0,\n",
       " 21: 3.6666666666666665,\n",
       " 22: 2.5,\n",
       " 23: 6.5,\n",
       " 31: 2.2222222222222223,\n",
       " 122: 1.5,\n",
       " 27: 4.0,\n",
       " 28: 2.5,\n",
       " 29: 0.4,\n",
       " 30: 0.36363636363636365,\n",
       " 32: 3.5,\n",
       " 147: 5.333333333333333,\n",
       " 233: 0.5,\n",
       " 86: 0.0,\n",
       " 34: 3.0,\n",
       " 35: 1.6666666666666667,\n",
       " 37: 3.5,\n",
       " 43: 3.8333333333333335,\n",
       " 36: 4.0,\n",
       " 187: 7.333333333333333,\n",
       " 38: 1.1538461538461537,\n",
       " 90: 1.6,\n",
       " 282: 2.0,\n",
       " 42: 5.0,\n",
       " 210: 3.0,\n",
       " 40: 6.0,\n",
       " 15: 0.0,\n",
       " 45: 5.0,\n",
       " 107: 4.2,\n",
       " 46: 2.5,\n",
       " 61: 0.0,\n",
       " 72: 0.0,\n",
       " 48: 4.0,\n",
       " 49: 5.5,\n",
       " 108: 3.5,\n",
       " 243: 0.0,\n",
       " 50: 2.0,\n",
       " 47: 0.0,\n",
       " 125: 1.0,\n",
       " 224: 0.0,\n",
       " 54: 3.6666666666666665,\n",
       " 111: 3.0,\n",
       " 65: 0.0,\n",
       " 67: 7.0,\n",
       " 105: 0.0,\n",
       " 222: 2.2,\n",
       " 56: 8.5,\n",
       " 57: 6.0,\n",
       " 58: 5.857142857142857,\n",
       " 59: 1.0,\n",
       " 164: 0.0,\n",
       " 63: 5.0,\n",
       " 70: 9.0,\n",
       " 256: 0.0,\n",
       " 66: 4.75,\n",
       " 84: 2.3333333333333335,\n",
       " 113: 0.2,\n",
       " 68: 3.0,\n",
       " 71: 4.0,\n",
       " 74: 3.75,\n",
       " 75: 1.0,\n",
       " 215: 2.3333333333333335,\n",
       " 76: 6.0,\n",
       " 104: 3.4,\n",
       " 77: 1.5,\n",
       " 80: 3.6666666666666665,\n",
       " 207: 4.2,\n",
       " 82: 3.3333333333333335,\n",
       " 83: 2.5,\n",
       " 97: 3.3333333333333335,\n",
       " 226: 4.0,\n",
       " 154: 0.5,\n",
       " 87: 1.25,\n",
       " 101: 2.0,\n",
       " 189: 2.6666666666666665,\n",
       " 89: 1.25,\n",
       " 94: 3.25,\n",
       " 91: 5.0,\n",
       " 92: 6.666666666666667,\n",
       " 95: 5.5,\n",
       " 96: 1.8,\n",
       " 128: 2.5714285714285716,\n",
       " 98: 5.0,\n",
       " 100: 2.5,\n",
       " 114: 2.5,\n",
       " 121: 3.5,\n",
       " 253: 0.0,\n",
       " 116: 6.0,\n",
       " 140: 0.0,\n",
       " 118: 1.4,\n",
       " 129: 1.25,\n",
       " 138: 3.0,\n",
       " 120: 2.0,\n",
       " 123: 4.0,\n",
       " 124: 1.5,\n",
       " 244: 0.6666666666666666,\n",
       " 126: 4.0,\n",
       " 134: 1.25,\n",
       " 135: 2.0,\n",
       " 137: 1.0,\n",
       " 144: 1.0,\n",
       " 139: 1.0,\n",
       " 142: 1.0,\n",
       " 141: 2.3333333333333335,\n",
       " 157: 1.5,\n",
       " 143: 6.0,\n",
       " 145: 0.6666666666666666,\n",
       " 151: 1.5,\n",
       " 146: 4.0,\n",
       " 165: 3.6666666666666665,\n",
       " 169: 3.0,\n",
       " 171: 2.25,\n",
       " 148: 2.75,\n",
       " 149: 3.4,\n",
       " 172: 0.0,\n",
       " 152: 5.0,\n",
       " 153: 4.0,\n",
       " 155: 0.0,\n",
       " 156: 0.5,\n",
       " 161: 2.0,\n",
       " 167: 2.5,\n",
       " 170: 2.4,\n",
       " 173: 2.5,\n",
       " 183: 1.25,\n",
       " 202: 2.0,\n",
       " 175: 2.0,\n",
       " 176: 6.0,\n",
       " 178: 1.0,\n",
       " 181: 1.0,\n",
       " 182: 7.0,\n",
       " 185: 15.0,\n",
       " 186: 1.0,\n",
       " 127: 0.0,\n",
       " 188: 8.666666666666666,\n",
       " 190: 7.0,\n",
       " 191: 3.5,\n",
       " 192: 3.5,\n",
       " 195: 7.0,\n",
       " 197: 9.0,\n",
       " 198: 2.6,\n",
       " 221: 2.5,\n",
       " 200: 4.0,\n",
       " 220: 0.0,\n",
       " 201: 5.0,\n",
       " 203: 1.5,\n",
       " 232: 1.3333333333333333,\n",
       " 204: 1.0,\n",
       " 194: 0.0,\n",
       " 208: 13.0,\n",
       " 211: 6.0,\n",
       " 213: 6.333333333333333,\n",
       " 217: 2.0,\n",
       " 39: 0.0,\n",
       " 223: 2.0,\n",
       " 225: 4.0,\n",
       " 229: 7.0,\n",
       " 230: 2.5,\n",
       " 231: 6.0,\n",
       " 99: 0.0,\n",
       " 234: 3.5,\n",
       " 237: 1.5,\n",
       " 238: 3.0,\n",
       " 242: 4.5,\n",
       " 249: 5.0,\n",
       " 250: 4.0,\n",
       " 252: 7.0,\n",
       " 254: 7.0,\n",
       " 258: 5.0,\n",
       " 268: 5.0,\n",
       " 270: 4.0,\n",
       " 272: 2.0,\n",
       " 275: 5.0,\n",
       " 280: 2.5,\n",
       " 206: 0.0,\n",
       " 285: 3.5,\n",
       " 290: 1.0,\n",
       " 293: 2.0}"
      ]
     },
     "execution_count": 128,
     "metadata": {},
     "output_type": "execute_result"
    }
   ],
   "source": [
    "get_triangles(hartford)\n",
    "\n",
    "\n",
    "avg_neigh_degree(hartford)"
   ]
  },
  {
   "cell_type": "code",
   "execution_count": 166,
   "metadata": {
    "ExecuteTime": {
     "end_time": "2018-08-02T22:05:48.351470Z",
     "start_time": "2018-08-02T22:05:48.342153Z"
    }
   },
   "outputs": [
    {
     "data": {
      "text/plain": [
       "<generator object breadth_first_search at 0x117681ca8>"
      ]
     },
     "execution_count": 166,
     "metadata": {},
     "output_type": "execute_result"
    }
   ],
   "source": [
    "breadth_first_search(G, source= 213)"
   ]
  },
  {
   "cell_type": "code",
   "execution_count": 131,
   "metadata": {
    "ExecuteTime": {
     "end_time": "2018-08-02T21:51:47.349921Z",
     "start_time": "2018-08-02T21:51:47.328678Z"
    }
   },
   "outputs": [
    {
     "ename": "AttributeError",
     "evalue": "'InDegreeView' object has no attribute 'values'",
     "output_type": "error",
     "traceback": [
      "\u001b[0;31m---------------------------------------------------------------------------\u001b[0m",
      "\u001b[0;31mAttributeError\u001b[0m                            Traceback (most recent call last)",
      "\u001b[0;32m<ipython-input-131-139e76816093>\u001b[0m in \u001b[0;36m<module>\u001b[0;34m()\u001b[0m\n\u001b[1;32m      3\u001b[0m \u001b[0;34m\u001b[0m\u001b[0m\n\u001b[1;32m      4\u001b[0m \u001b[0;31m# dictionary node:degree\u001b[0m\u001b[0;34m\u001b[0m\u001b[0;34m\u001b[0m\u001b[0m\n\u001b[0;32m----> 5\u001b[0;31m \u001b[0min_values\u001b[0m \u001b[0;34m=\u001b[0m \u001b[0;34m{\u001b[0m\u001b[0msorted\u001b[0m\u001b[0;34m(\u001b[0m\u001b[0mset\u001b[0m\u001b[0;34m(\u001b[0m\u001b[0min_degrees\u001b[0m\u001b[0;34m.\u001b[0m\u001b[0mvalues\u001b[0m\u001b[0;34m(\u001b[0m\u001b[0;34m)\u001b[0m\u001b[0;34m)\u001b[0m\u001b[0;34m)\u001b[0m\u001b[0;34m}\u001b[0m\u001b[0;34m\u001b[0m\u001b[0m\n\u001b[0m\u001b[1;32m      6\u001b[0m \u001b[0min_hist\u001b[0m \u001b[0;34m=\u001b[0m \u001b[0;34m[\u001b[0m\u001b[0min_degrees\u001b[0m\u001b[0;34m.\u001b[0m\u001b[0mvalues\u001b[0m\u001b[0;34m(\u001b[0m\u001b[0;34m)\u001b[0m\u001b[0;34m.\u001b[0m\u001b[0mcount\u001b[0m\u001b[0;34m(\u001b[0m\u001b[0mx\u001b[0m\u001b[0;34m)\u001b[0m \u001b[0;32mfor\u001b[0m \u001b[0mx\u001b[0m \u001b[0;32min\u001b[0m \u001b[0min_values\u001b[0m\u001b[0;34m]\u001b[0m\u001b[0;34m\u001b[0m\u001b[0m\n\u001b[1;32m      7\u001b[0m \u001b[0mplt\u001b[0m\u001b[0;34m.\u001b[0m\u001b[0mfigure\u001b[0m\u001b[0;34m(\u001b[0m\u001b[0;34m)\u001b[0m\u001b[0;34m\u001b[0m\u001b[0m\n",
      "\u001b[0;31mAttributeError\u001b[0m: 'InDegreeView' object has no attribute 'values'"
     ]
    }
   ],
   "source": [
    "\n",
    "in_degrees  = hartford.in_degree() \n",
    "\n",
    "# dictionary node:degree\n",
    "in_values = {sorted(set(in_degrees.values()))} \n",
    "in_hist = [in_degrees.values().count(x) for x in in_values]\n",
    "plt.figure()\n",
    "plt.plot(in_values,in_hist,'ro-') \n",
    "# in-degree\n",
    "plt.plot(out_values,out_hist,'bv-') \n",
    "# out-degree\n",
    "plt.legend(['In-degree','Out-degree'])\n",
    "plt.xlabel('Degree')\n",
    "plt.ylabel('Number of nodes')\n",
    "plt.title('Hartford drug users network')\n",
    "plt.savefig('hartford_degree_distribution.pdf')\n",
    "plt.close()"
   ]
  },
  {
   "cell_type": "code",
   "execution_count": 133,
   "metadata": {
    "ExecuteTime": {
     "end_time": "2018-08-02T21:52:19.152959Z",
     "start_time": "2018-08-02T21:52:19.138020Z"
    }
   },
   "outputs": [
    {
     "data": {
      "text/plain": [
       "OutEdgeView([(1, 2), (1, 10), (2, 1), (2, 10), (10, 1), (10, 2), (3, 7), (7, 3), (7, 4), (7, 9), (4, 7), (4, 209), (5, 132), (132, 29), (132, 30), (6, 150), (150, 86), (9, 1), (9, 2), (9, 7), (8, 106), (8, 115), (106, 22), (11, 133), (11, 218), (133, 30), (218, 68), (218, 222), (12, 88), (13, 214), (214, 13), (214, 14), (214, 171), (214, 213), (14, 24), (14, 52), (24, 14), (24, 31), (24, 122), (52, 218), (52, 224), (16, 10), (16, 19), (19, 18), (17, 64), (17, 78), (64, 8), (64, 50), (64, 70), (64, 256), (78, 64), (78, 68), (18, 55), (18, 103), (18, 163), (55, 65), (55, 67), (55, 105), (55, 108), (55, 222), (103, 77), (103, 104), (20, 64), (20, 180), (21, 16), (21, 22), (22, 21), (22, 64), (22, 106), (23, 20), (23, 22), (23, 64), (31, 24), (31, 32), (31, 122), (31, 147), (31, 233), (122, 31), (27, 115), (28, 29), (29, 28), (30, 19), (32, 31), (32, 86), (147, 31), (147, 128), (233, 99), (34, 35), (34, 37), (35, 34), (35, 43), (37, 38), (37, 90), (37, 282), (43, 34), (43, 35), (43, 38), (36, 132), (36, 187), (187, 50), (187, 65), (38, 42), (38, 43), (38, 210), (90, 89), (90, 94), (282, 37), (42, 15), (42, 38), (210, 38), (210, 207), (40, 20), (45, 107), (107, 38), (107, 114), (107, 122), (46, 61), (46, 72), (48, 23), (49, 30), (49, 64), (49, 108), (49, 115), (49, 243), (108, 49), (108, 55), (50, 30), (50, 47), (50, 55), (50, 125), (50, 163), (125, 132), (54, 111), (54, 210), (111, 121), (111, 128), (111, 210), (67, 22), (67, 50), (67, 113), (222, 198), (222, 218), (56, 18), (56, 64), (57, 65), (57, 125), (58, 20), (58, 30), (58, 50), (58, 103), (58, 180), (59, 164), (63, 125), (70, 50), (70, 64), (66, 20), (66, 84), (66, 106), (66, 125), (84, 29), (84, 154), (113, 253), (68, 50), (71, 72), (74, 29), (74, 75), (74, 215), (75, 74), (75, 215), (215, 75), (76, 58), (76, 104), (104, 58), (104, 77), (104, 103), (77, 103), (80, 207), (80, 210), (207, 38), (207, 122), (207, 124), (82, 8), (82, 77), (82, 83), (82, 97), (82, 163), (83, 82), (83, 226), (83, 243), (97, 80), (97, 128), (226, 22), (154, 155), (87, 101), (87, 189), (101, 87), (189, 87), (189, 89), (89, 90), (94, 72), (94, 89), (94, 90), (91, 86), (92, 19), (92, 30), (92, 106), (95, 30), (96, 75), (96, 256), (128, 38), (128, 111), (98, 86), (100, 86), (114, 107), (121, 128), (116, 30), (116, 140), (118, 129), (118, 138), (129, 118), (138, 118), (138, 129), (120, 88), (123, 32), (124, 244), (244, 237), (126, 163), (126, 180), (134, 135), (134, 150), (135, 134), (137, 144), (144, 137), (139, 142), (142, 139), (141, 157), (141, 163), (157, 141), (143, 2), (145, 151), (151, 145), (146, 137), (146, 165), (146, 169), (146, 171), (165, 144), (165, 148), (169, 15), (169, 148), (169, 171), (171, 72), (171, 148), (171, 169), (148, 146), (148, 169), (148, 171), (148, 282), (149, 128), (149, 148), (149, 172), (152, 4), (153, 134), (156, 161), (161, 156), (167, 149), (170, 115), (170, 173), (170, 183), (170, 202), (173, 170), (183, 96), (202, 156), (175, 100), (176, 10), (178, 181), (181, 178), (182, 38), (182, 171), (185, 50), (186, 127), (188, 30), (188, 50), (190, 35), (190, 38), (190, 122), (190, 182), (191, 54), (191, 118), (191, 129), (191, 172), (192, 149), (192, 167), (195, 75), (197, 50), (197, 188), (198, 218), (198, 221), (198, 222), (221, 198), (200, 65), (200, 220), (201, 113), (203, 232), (232, 95), (232, 203), (204, 194), (208, 30), (208, 50), (211, 37), (213, 35), (213, 38), (217, 39), (223, 39), (225, 3), (229, 65), (230, 68), (231, 43), (234, 68), (234, 230), (237, 244), (238, 145), (242, 3), (242, 113), (249, 96), (250, 156), (252, 65), (254, 65), (258, 113), (268, 4), (270, 183), (272, 6), (275, 96), (280, 183), (280, 206), (285, 75), (290, 285), (293, 290)])"
      ]
     },
     "execution_count": 133,
     "metadata": {},
     "output_type": "execute_result"
    }
   ],
   "source": [
    "#list(nx.bridges(hartford))\n",
    "hartford.edges"
   ]
  },
  {
   "cell_type": "code",
   "execution_count": 134,
   "metadata": {
    "ExecuteTime": {
     "end_time": "2018-08-02T21:52:31.418803Z",
     "start_time": "2018-08-02T21:52:31.409008Z"
    }
   },
   "outputs": [
    {
     "data": {
      "text/plain": [
       "OutEdgeDataView([(1, 2, {}), (1, 10, {}), (2, 1, {}), (2, 10, {}), (10, 1, {}), (10, 2, {}), (3, 7, {}), (7, 3, {}), (7, 4, {}), (7, 9, {}), (4, 7, {}), (4, 209, {}), (5, 132, {}), (132, 29, {}), (132, 30, {}), (6, 150, {}), (150, 86, {}), (9, 1, {}), (9, 2, {}), (9, 7, {}), (8, 106, {}), (8, 115, {}), (106, 22, {}), (11, 133, {}), (11, 218, {}), (133, 30, {}), (218, 68, {}), (218, 222, {}), (12, 88, {}), (13, 214, {}), (214, 13, {}), (214, 14, {}), (214, 171, {}), (214, 213, {}), (14, 24, {}), (14, 52, {}), (24, 14, {}), (24, 31, {}), (24, 122, {}), (52, 218, {}), (52, 224, {}), (16, 10, {}), (16, 19, {}), (19, 18, {}), (17, 64, {}), (17, 78, {}), (64, 8, {}), (64, 50, {}), (64, 70, {}), (64, 256, {}), (78, 64, {}), (78, 68, {}), (18, 55, {}), (18, 103, {}), (18, 163, {}), (55, 65, {}), (55, 67, {}), (55, 105, {}), (55, 108, {}), (55, 222, {}), (103, 77, {}), (103, 104, {}), (20, 64, {}), (20, 180, {}), (21, 16, {}), (21, 22, {}), (22, 21, {}), (22, 64, {}), (22, 106, {}), (23, 20, {}), (23, 22, {}), (23, 64, {}), (31, 24, {}), (31, 32, {}), (31, 122, {}), (31, 147, {}), (31, 233, {}), (122, 31, {}), (27, 115, {}), (28, 29, {}), (29, 28, {}), (30, 19, {}), (32, 31, {}), (32, 86, {}), (147, 31, {}), (147, 128, {}), (233, 99, {}), (34, 35, {}), (34, 37, {}), (35, 34, {}), (35, 43, {}), (37, 38, {}), (37, 90, {}), (37, 282, {}), (43, 34, {}), (43, 35, {}), (43, 38, {}), (36, 132, {}), (36, 187, {}), (187, 50, {}), (187, 65, {}), (38, 42, {}), (38, 43, {}), (38, 210, {}), (90, 89, {}), (90, 94, {}), (282, 37, {}), (42, 15, {}), (42, 38, {}), (210, 38, {}), (210, 207, {}), (40, 20, {}), (45, 107, {}), (107, 38, {}), (107, 114, {}), (107, 122, {}), (46, 61, {}), (46, 72, {}), (48, 23, {}), (49, 30, {}), (49, 64, {}), (49, 108, {}), (49, 115, {}), (49, 243, {}), (108, 49, {}), (108, 55, {}), (50, 30, {}), (50, 47, {}), (50, 55, {}), (50, 125, {}), (50, 163, {}), (125, 132, {}), (54, 111, {}), (54, 210, {}), (111, 121, {}), (111, 128, {}), (111, 210, {}), (67, 22, {}), (67, 50, {}), (67, 113, {}), (222, 198, {}), (222, 218, {}), (56, 18, {}), (56, 64, {}), (57, 65, {}), (57, 125, {}), (58, 20, {}), (58, 30, {}), (58, 50, {}), (58, 103, {}), (58, 180, {}), (59, 164, {}), (63, 125, {}), (70, 50, {}), (70, 64, {}), (66, 20, {}), (66, 84, {}), (66, 106, {}), (66, 125, {}), (84, 29, {}), (84, 154, {}), (113, 253, {}), (68, 50, {}), (71, 72, {}), (74, 29, {}), (74, 75, {}), (74, 215, {}), (75, 74, {}), (75, 215, {}), (215, 75, {}), (76, 58, {}), (76, 104, {}), (104, 58, {}), (104, 77, {}), (104, 103, {}), (77, 103, {}), (80, 207, {}), (80, 210, {}), (207, 38, {}), (207, 122, {}), (207, 124, {}), (82, 8, {}), (82, 77, {}), (82, 83, {}), (82, 97, {}), (82, 163, {}), (83, 82, {}), (83, 226, {}), (83, 243, {}), (97, 80, {}), (97, 128, {}), (226, 22, {}), (154, 155, {}), (87, 101, {}), (87, 189, {}), (101, 87, {}), (189, 87, {}), (189, 89, {}), (89, 90, {}), (94, 72, {}), (94, 89, {}), (94, 90, {}), (91, 86, {}), (92, 19, {}), (92, 30, {}), (92, 106, {}), (95, 30, {}), (96, 75, {}), (96, 256, {}), (128, 38, {}), (128, 111, {}), (98, 86, {}), (100, 86, {}), (114, 107, {}), (121, 128, {}), (116, 30, {}), (116, 140, {}), (118, 129, {}), (118, 138, {}), (129, 118, {}), (138, 118, {}), (138, 129, {}), (120, 88, {}), (123, 32, {}), (124, 244, {}), (244, 237, {}), (126, 163, {}), (126, 180, {}), (134, 135, {}), (134, 150, {}), (135, 134, {}), (137, 144, {}), (144, 137, {}), (139, 142, {}), (142, 139, {}), (141, 157, {}), (141, 163, {}), (157, 141, {}), (143, 2, {}), (145, 151, {}), (151, 145, {}), (146, 137, {}), (146, 165, {}), (146, 169, {}), (146, 171, {}), (165, 144, {}), (165, 148, {}), (169, 15, {}), (169, 148, {}), (169, 171, {}), (171, 72, {}), (171, 148, {}), (171, 169, {}), (148, 146, {}), (148, 169, {}), (148, 171, {}), (148, 282, {}), (149, 128, {}), (149, 148, {}), (149, 172, {}), (152, 4, {}), (153, 134, {}), (156, 161, {}), (161, 156, {}), (167, 149, {}), (170, 115, {}), (170, 173, {}), (170, 183, {}), (170, 202, {}), (173, 170, {}), (183, 96, {}), (202, 156, {}), (175, 100, {}), (176, 10, {}), (178, 181, {}), (181, 178, {}), (182, 38, {}), (182, 171, {}), (185, 50, {}), (186, 127, {}), (188, 30, {}), (188, 50, {}), (190, 35, {}), (190, 38, {}), (190, 122, {}), (190, 182, {}), (191, 54, {}), (191, 118, {}), (191, 129, {}), (191, 172, {}), (192, 149, {}), (192, 167, {}), (195, 75, {}), (197, 50, {}), (197, 188, {}), (198, 218, {}), (198, 221, {}), (198, 222, {}), (221, 198, {}), (200, 65, {}), (200, 220, {}), (201, 113, {}), (203, 232, {}), (232, 95, {}), (232, 203, {}), (204, 194, {}), (208, 30, {}), (208, 50, {}), (211, 37, {}), (213, 35, {}), (213, 38, {}), (217, 39, {}), (223, 39, {}), (225, 3, {}), (229, 65, {}), (230, 68, {}), (231, 43, {}), (234, 68, {}), (234, 230, {}), (237, 244, {}), (238, 145, {}), (242, 3, {}), (242, 113, {}), (249, 96, {}), (250, 156, {}), (252, 65, {}), (254, 65, {}), (258, 113, {}), (268, 4, {}), (270, 183, {}), (272, 6, {}), (275, 96, {}), (280, 183, {}), (280, 206, {}), (285, 75, {}), (290, 285, {}), (293, 290, {})])"
      ]
     },
     "execution_count": 134,
     "metadata": {},
     "output_type": "execute_result"
    }
   ],
   "source": [
    "hartford.edges(data=True)"
   ]
  },
  {
   "cell_type": "code",
   "execution_count": 160,
   "metadata": {
    "ExecuteTime": {
     "end_time": "2018-08-02T22:01:03.258538Z",
     "start_time": "2018-08-02T22:01:03.195156Z"
    }
   },
   "outputs": [
    {
     "name": "stdout",
     "output_type": "stream",
     "text": [
      "{1: 0.011806966072368915, 2: 0.0001993530429549387, 10: 0.015639810426540283, 3: 0.00039118332957195515, 7: 0.005168133604152561, 4: 0.009726923944933423, 209: 0.0, 5: 0.0, 132: 0.008575942225231325, 6: 4.513653802753329e-05, 150: 0.00011284134506883322, 9: 0.00019559166478597757, 8: 0.0027871812232001807, 106: 0.00366734371473708, 115: 0.0, 11: 0.0, 133: 0.0002031144211238998, 218: 0.048386368765515685, 12: 0.0, 88: 0.0, 13: 0.0, 214: 0.0019408711351839314, 14: 0.04482058226134056, 24: 0.042947415933197924, 52: 0.04445948995712029, 16: 0.018795606710298653, 19: 0.024023922365154594, 17: 0.0, 64: 0.01593695930188821, 78: 2.2568269013766644e-05, 18: 0.023493568043331078, 55: 0.05326487625065825, 103: 0.011494771684345144, 163: 0.0, 20: 0.002279395170390431, 180: 0.0, 21: 0.020431806213796738, 22: 0.030681561724215753, 23: 0.0010607086436470322, 31: 0.05025953509365832, 122: 0.04317309862333559, 27: 0.0, 28: 0.0, 29: 0.0025727826675693974, 30: 0.022515609719401187, 32: 0.002663055743624464, 147: 0.004400812457684496, 233: 0.0009704355675919657, 86: 0.0, 34: 0.003893026404874746, 35: 0.00048521778379598284, 37: 0.017005190701873167, 43: 0.008034303768900925, 36: 0.0, 187: 0.0007898894154818325, 38: 0.033976529000225686, 90: 0.0028210336267208303, 282: 0.008869329722410292, 42: 0.0007109004739336493, 210: 0.03665086887835703, 40: 0.0, 15: 0.0, 45: 0.0, 107: 0.003543218235161363, 46: 0.0, 61: 0.0, 72: 0.0, 48: 0.0, 49: 0.007556608741442866, 108: 0.009666741894230047, 243: 0.0, 50: 0.06620025577371548, 47: 0.0, 125: 0.00839539607312119, 224: 0.0, 54: 0.0017603249830737983, 111: 0.0049198826450011285, 65: 0.0, 67: 0.030655232077033027, 105: 0.0, 222: 0.006477093206951027, 56: 0.0, 57: 0.0, 58: 0.008075678928759497, 59: 0.0, 164: 0.0, 63: 0.0, 70: 0.0, 256: 0.0, 66: 0.0, 84: 9.027307605506658e-05, 113: 0.002279395170390431, 68: 0.0467501692620176, 71: 0.0, 74: 0.000631911532385466, 75: 0.0011509817197020988, 215: 0.0, 76: 0.0, 104: 0.008301361618897165, 77: 0.0004062288422477996, 80: 0.002143985556307831, 207: 0.04003610923042203, 82: 0.0009591514330850823, 83: 0.0003610923042202663, 97: 0.0014443692168810652, 226: 0.0011396975851952155, 154: 4.513653802753329e-05, 87: 0.00013540961408259986, 101: 0.0, 189: 0.00018054615211013315, 89: 0.0002031144211238998, 94: 0.0008124576844955992, 91: 0.0, 92: 0.0, 95: 0.0021214172872940644, 96: 0.0009478672985781991, 128: 0.011667795080117355, 98: 0.0, 100: 2.2568269013766644e-05, 114: 0.0, 121: 0.0, 253: 0.0, 116: 0.0, 140: 0.0, 118: 4.513653802753329e-05, 129: 0.0, 138: 0.0, 120: 0.0, 123: 0.0, 124: 0.0019408711351839314, 244: 0.0009930038366057323, 126: 0.0, 134: 0.00011284134506883322, 135: 0.0, 137: 0.00012412547957571654, 144: 2.2568269013766644e-05, 139: 0.0, 142: 0.0, 141: 2.2568269013766644e-05, 157: 0.0, 143: 0.0, 145: 2.2568269013766644e-05, 151: 0.0, 146: 0.0006770480704129993, 165: 0.0007033777175957271, 169: 0.0007936507936507938, 171: 0.001639960881667043, 148: 0.008609794628751975, 149: 0.0038817422703678627, 172: 0.0, 152: 0.0, 153: 0.0, 155: 0.0, 156: 9.027307605506658e-05, 161: 0.0, 167: 0.0, 170: 0.00027081922816519973, 173: 0.0, 183: 0.000631911532385466, 202: 9.027307605506658e-05, 175: 0.0, 176: 0.0, 178: 0.0, 181: 0.0, 182: 0.00019183028661701648, 185: 0.0, 186: 0.0, 127: 0.0, 188: 0.0001015572105619499, 190: 0.0, 191: 0.0, 192: 0.0, 195: 0.0, 197: 0.0, 198: 0.003182125930941097, 221: 0.0, 200: 0.0, 220: 0.0, 201: 0.0, 203: 0.0, 232: 0.001083276912660799, 204: 0.0, 194: 0.0, 208: 0.0, 211: 0.0, 213: 0.0005416384563303995, 217: 0.0, 39: 0.0, 223: 0.0, 225: 0.0, 229: 0.0, 230: 0.0, 231: 0.0, 99: 0.0, 234: 0.0, 237: 0.0, 238: 0.0, 242: 0.0, 249: 0.0, 250: 0.0, 252: 0.0, 254: 0.0, 258: 0.0, 268: 0.0, 270: 0.0, 272: 0.0, 275: 0.0, 280: 0.0, 206: 0.0, 285: 0.00022568269013766644, 290: 0.00013540961408259986, 293: 0.0}\n"
     ]
    }
   ],
   "source": [
    "betweenness_dict = nx.betweenness_centrality(hartford) # Run betweenness centrality\n",
    "nx.set_node_attributes(hartford, betweenness_dict, 'betweenness')\n",
    "print(betweenness_dict)"
   ]
  },
  {
   "cell_type": "code",
   "execution_count": 137,
   "metadata": {
    "ExecuteTime": {
     "end_time": "2018-08-02T21:52:55.014685Z",
     "start_time": "2018-08-02T21:52:55.002929Z"
    }
   },
   "outputs": [],
   "source": [
    "from networkx.utils import groups\n",
    "\n",
    "\n",
    "class UnionFind:\n",
    "    \n",
    "    def __init__(self, elements=None):\n",
    "        \n",
    "        if elements is None:\n",
    "            elements = ()\n",
    "        self.parents = {}\n",
    "        self.weights = {}\n",
    "        for x in elements:\n",
    "            self.weights[x] = 1\n",
    "            self.parents[x] = x\n",
    "\n",
    "        def __getitem__(self, object):\n",
    "        \n",
    "        # check for previously unknown object\n",
    "            if object not in self.parents:\n",
    "                self.parents[object] = object\n",
    "                self.weights[object] = 1\n",
    "                return object\n",
    "\n",
    "        # find path of objects leading to the root\n",
    "        path = [object]\n",
    "        root = self.parents[object]\n",
    "        while root != path[-1]:\n",
    "            path.append(root)\n",
    "            root = self.parents[root]\n",
    "\n",
    "        # compress the path and return\n",
    "        for ancestor in path:\n",
    "            self.parents[ancestor] = root\n",
    "        return root\n",
    "\n",
    "    def __iter__(self):\n",
    "        \n",
    "        return iter(self.parents)\n",
    "\n",
    "    def to_sets(self):\n",
    "        \n",
    "        # TODO In Python 3.3+, this should be `yield from ...`.\n",
    "        for block in groups(self.parents).values():\n",
    "            yield block[docs]\n",
    "def union(self, *objects):\n",
    "        \"\"\"Find the sets containing the objects and merge them all.\"\"\"\n",
    "        roots = [self[x] for x in objects]\n",
    "        # Find the heaviest root according to its weight.\n",
    "        heaviest = max(roots, key=lambda r: self.weights[r])\n",
    "        for r in roots:\n",
    "            if r != heaviest:\n",
    "                self.weights[heaviest] += self.weights[r]\n",
    "                self.parents[r] = heaviest"
   ]
  },
  {
   "cell_type": "code",
   "execution_count": 138,
   "metadata": {
    "ExecuteTime": {
     "end_time": "2018-08-02T21:52:59.476167Z",
     "start_time": "2018-08-02T21:52:59.467261Z"
    }
   },
   "outputs": [
    {
     "data": {
      "text/plain": [
       "True"
      ]
     },
     "execution_count": 138,
     "metadata": {},
     "output_type": "execute_result"
    }
   ],
   "source": [
    "import networkx\n",
    "networkx.utils.is_string_like('spam')"
   ]
  },
  {
   "cell_type": "code",
   "execution_count": 151,
   "metadata": {
    "ExecuteTime": {
     "end_time": "2018-08-02T21:56:49.796254Z",
     "start_time": "2018-08-02T21:56:49.786064Z"
    }
   },
   "outputs": [
    {
     "data": {
      "text/plain": [
       "<dict_keyiterator at 0x11763adb8>"
      ]
     },
     "execution_count": 151,
     "metadata": {},
     "output_type": "execute_result"
    }
   ],
   "source": [
    "#dg = nx.DiGraph()\n",
    "hartford.add_weighted_edges_from([(1,4,0.5), (3,1,0.75)])\n",
    "hartford.out_degree(1)\n",
    "\n",
    "hartford.degree(1)\n",
    "\n",
    "hartford.successors(1)\n",
    "\n",
    "hartford.predecessors(1)\n"
   ]
  },
  {
   "cell_type": "code",
   "execution_count": 170,
   "metadata": {
    "ExecuteTime": {
     "end_time": "2018-08-02T23:35:31.688566Z",
     "start_time": "2018-08-02T23:35:31.669896Z"
    }
   },
   "outputs": [
    {
     "ename": "ModuleNotFoundError",
     "evalue": "No module named 'regraph'",
     "output_type": "error",
     "traceback": [
      "\u001b[0;31m---------------------------------------------------------------------------\u001b[0m",
      "\u001b[0;31mModuleNotFoundError\u001b[0m                       Traceback (most recent call last)",
      "\u001b[0;32m<ipython-input-170-29720d3c3034>\u001b[0m in \u001b[0;36m<module>\u001b[0;34m()\u001b[0m\n\u001b[0;32m----> 1\u001b[0;31m \u001b[0;32mfrom\u001b[0m \u001b[0mregraph\u001b[0m \u001b[0;32mimport\u001b[0m \u001b[0mRule\u001b[0m\u001b[0;34m,\u001b[0m \u001b[0mplot_rule\u001b[0m\u001b[0;34m,\u001b[0m \u001b[0mplot_graph\u001b[0m\u001b[0;34m,\u001b[0m \u001b[0mplot_instance\u001b[0m\u001b[0;34m,\u001b[0m \u001b[0mfind_matching\u001b[0m\u001b[0;34m\u001b[0m\u001b[0m\n\u001b[0m\u001b[1;32m      2\u001b[0m \u001b[0;32mfrom\u001b[0m \u001b[0mregraph\u001b[0m\u001b[0;34m.\u001b[0m\u001b[0mdefault\u001b[0m\u001b[0;34m.\u001b[0m\u001b[0mprimitives\u001b[0m \u001b[0;32mimport\u001b[0m \u001b[0;34m*\u001b[0m\u001b[0;34m\u001b[0m\u001b[0m\n\u001b[1;32m      3\u001b[0m \u001b[0;34m\u001b[0m\u001b[0m\n\u001b[1;32m      4\u001b[0m \u001b[0;32mimport\u001b[0m \u001b[0mnetworkx\u001b[0m \u001b[0;32mas\u001b[0m \u001b[0mnx\u001b[0m\u001b[0;34m\u001b[0m\u001b[0m\n",
      "\u001b[0;31mModuleNotFoundError\u001b[0m: No module named 'regraph'"
     ]
    }
   ],
   "source": [
    "from regraph import Rule, plot_rule, plot_graph, plot_instance, find_matching\n",
    "from regraph.default.primitives import *\n",
    "\n",
    "import networkx as nx\n"
   ]
  },
  {
   "cell_type": "code",
   "execution_count": 171,
   "metadata": {
    "ExecuteTime": {
     "end_time": "2018-08-02T23:35:36.223904Z",
     "start_time": "2018-08-02T23:35:36.206566Z"
    }
   },
   "outputs": [
    {
     "ename": "NameError",
     "evalue": "name 'add_nodes_from' is not defined",
     "output_type": "error",
     "traceback": [
      "\u001b[0;31m---------------------------------------------------------------------------\u001b[0m",
      "\u001b[0;31mNameError\u001b[0m                                 Traceback (most recent call last)",
      "\u001b[0;32m<ipython-input-171-22b5b3bf80e6>\u001b[0m in \u001b[0;36m<module>\u001b[0;34m()\u001b[0m\n\u001b[1;32m      1\u001b[0m \u001b[0mpattern\u001b[0m \u001b[0;34m=\u001b[0m \u001b[0mnx\u001b[0m\u001b[0;34m.\u001b[0m\u001b[0mDiGraph\u001b[0m\u001b[0;34m(\u001b[0m\u001b[0;34m)\u001b[0m\u001b[0;34m\u001b[0m\u001b[0m\n\u001b[0;32m----> 2\u001b[0;31m \u001b[0madd_nodes_from\u001b[0m\u001b[0;34m(\u001b[0m\u001b[0mpattern\u001b[0m\u001b[0;34m,\u001b[0m \u001b[0;34m[\u001b[0m\u001b[0;34m\"gene1\"\u001b[0m\u001b[0;34m,\u001b[0m \u001b[0;34m\"gene2\"\u001b[0m\u001b[0;34m,\u001b[0m \u001b[0;34m\"residue\"\u001b[0m\u001b[0;34m]\u001b[0m\u001b[0;34m)\u001b[0m\u001b[0;34m\u001b[0m\u001b[0m\n\u001b[0m\u001b[1;32m      3\u001b[0m \u001b[0madd_edges_from\u001b[0m\u001b[0;34m(\u001b[0m\u001b[0mpattern\u001b[0m\u001b[0;34m,\u001b[0m \u001b[0;34m[\u001b[0m\u001b[0;34m(\u001b[0m\u001b[0;34m\"residue\"\u001b[0m\u001b[0;34m,\u001b[0m \u001b[0;34m\"gene1\"\u001b[0m\u001b[0;34m)\u001b[0m\u001b[0;34m,\u001b[0m \u001b[0;34m(\u001b[0m\u001b[0;34m\"residue\"\u001b[0m\u001b[0;34m,\u001b[0m \u001b[0;34m\"gene2\"\u001b[0m\u001b[0;34m)\u001b[0m\u001b[0;34m]\u001b[0m\u001b[0;34m)\u001b[0m\u001b[0;34m\u001b[0m\u001b[0m\n",
      "\u001b[0;31mNameError\u001b[0m: name 'add_nodes_from' is not defined"
     ]
    }
   ],
   "source": [
    "pattern = nx.DiGraph()\n",
    "add_nodes_from(pattern, [\"gene1\", \"gene2\", \"residue\"])\n",
    "add_edges_from(pattern, [(\"residue\", \"gene1\"), (\"residue\", \"gene2\")])"
   ]
  },
  {
   "cell_type": "code",
   "execution_count": null,
   "metadata": {},
   "outputs": [],
   "source": [
    "rule = Rule.from_transform(pattern)\n",
    "rule.inject_merge_nodes([\"gene1\", \"gene2\"])\n",
    "rule.inject_add_node(\"new_node\")\n",
    "rule.inject_add_edge(\"residue\", \"new_node\")\n",
    "rule.inject_clone_node(\"residue\")"
   ]
  },
  {
   "cell_type": "code",
   "execution_count": null,
   "metadata": {},
   "outputs": [],
   "source": [
    "plot_rule(rule)"
   ]
  },
  {
   "cell_type": "code",
   "execution_count": null,
   "metadata": {},
   "outputs": [],
   "source": [
    "print(rule.to_commands())"
   ]
  },
  {
   "cell_type": "code",
   "execution_count": null,
   "metadata": {},
   "outputs": [],
   "source": [
    "g = nx.DiGraph()\n",
    "add_nodes_from(g, [1, 2, 3, 4, 5, 6])\n",
    "add_edges_from(g, [(2, 1), (2, 3), (3, 4), (3, 5)])"
   ]
  },
  {
   "cell_type": "code",
   "execution_count": null,
   "metadata": {},
   "outputs": [],
   "source": [
    "pos = plot_graph(g)"
   ]
  },
  {
   "cell_type": "code",
   "execution_count": null,
   "metadata": {},
   "outputs": [],
   "source": []
  },
  {
   "cell_type": "markdown",
   "metadata": {
    "ExecuteTime": {
     "end_time": "2018-08-02T21:54:15.601337Z",
     "start_time": "2018-08-02T21:54:15.561585Z"
    }
   },
   "source": [
    "\n",
    "#subgraph(G, nbunch) #- induce subgraph of G on nodes in nbunch\n",
    "union(G,hartford) #- graph union \n",
    "disjoint_union(G1,G2) #- graph union assuming all nodes are different \n",
    "cartesian_product(G1,G2) #- return Cartesian product graph \n",
    "compose(G1,G2) #- combine graphs identifying nodes common to both \n",
    "complement(G) #- graph complement \n",
    "create_empty_copy(G) #- return an empty copy of the same graph class \n",
    "convert_to_undirected(G)# - return an undirected representation of G \n",
    "convert_to_directed(G) #- return a directed representation of G"
   ]
  },
  {
   "cell_type": "markdown",
   "metadata": {},
   "source": [
    "https://en.wikipedia.org/wiki/Force-directed_graph_drawing\n"
   ]
  }
 ],
 "metadata": {
  "kernelspec": {
   "display_name": "Python [conda env:myclone]",
   "language": "python",
   "name": "conda-env-myclone-py"
  },
  "language_info": {
   "codemirror_mode": {
    "name": "ipython",
    "version": 3
   },
   "file_extension": ".py",
   "mimetype": "text/x-python",
   "name": "python",
   "nbconvert_exporter": "python",
   "pygments_lexer": "ipython3",
   "version": "3.6.5"
  },
  "toc": {
   "base_numbering": 1,
   "nav_menu": {},
   "number_sections": true,
   "sideBar": true,
   "skip_h1_title": false,
   "title_cell": "Table of Contents",
   "title_sidebar": "Contents",
   "toc_cell": false,
   "toc_position": {},
   "toc_section_display": true,
   "toc_window_display": false
  },
  "varInspector": {
   "cols": {
    "lenName": 16,
    "lenType": 16,
    "lenVar": 40
   },
   "kernels_config": {
    "python": {
     "delete_cmd_postfix": "",
     "delete_cmd_prefix": "del ",
     "library": "var_list.py",
     "varRefreshCmd": "print(var_dic_list())"
    },
    "r": {
     "delete_cmd_postfix": ") ",
     "delete_cmd_prefix": "rm(",
     "library": "var_list.r",
     "varRefreshCmd": "cat(var_dic_list()) "
    }
   },
   "position": {
    "height": "415.85px",
    "left": "947px",
    "right": "-17px",
    "top": "-11px",
    "width": "350px"
   },
   "types_to_exclude": [
    "module",
    "function",
    "builtin_function_or_method",
    "instance",
    "_Feature"
   ],
   "window_display": true
  }
 },
 "nbformat": 4,
 "nbformat_minor": 2
}
