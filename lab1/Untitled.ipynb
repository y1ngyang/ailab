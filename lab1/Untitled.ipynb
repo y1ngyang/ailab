{
 "cells": [
  {
   "cell_type": "code",
   "execution_count": 14,
   "metadata": {
    "ExecuteTime": {
     "end_time": "2018-08-01T10:47:19.766839Z",
     "start_time": "2018-08-01T10:47:19.587983Z"
    }
   },
   "outputs": [],
   "source": [
    "# data sets for family_rules\n",
    "\n",
    "simpsons_data = (\"person bart\",\n",
    "                 \"person lisa\",\n",
    "                 \"person maggie\",\n",
    "                 \"person marge\",\n",
    "                 \"person homer\",\n",
    "                 \"person abe\",\n",
    "                 \"parent marge bart\",\n",
    "                 \"parent marge lisa\",\n",
    "                 \"parent marge maggie\",\n",
    "                 \"parent homer bart\",\n",
    "                 \"parent homer lisa\",\n",
    "                 \"parent homer maggie\",\n",
    "                 \"parent abe homer\")\n",
    "\n",
    "black_data = (\"person sirius\",\n",
    "              \"person regulus\",\n",
    "              \"person walburga\",\n",
    "              \"person alphard\",\n",
    "              \"person cygnus\",\n",
    "              \"person pollux\",\n",
    "              \"person bellatrix\",\n",
    "              \"person andromeda\",\n",
    "              \"person narcissa\",\n",
    "              \"person nymphadora\",\n",
    "              \"person draco\",\n",
    "              \"parent walburga sirius\",\n",
    "              \"parent walburga regulus\",\n",
    "              \"parent pollux walburga\",\n",
    "              \"parent pollux alphard\",\n",
    "              \"parent pollux cygnus\",\n",
    "              \"parent cygnus bellatrix\",\n",
    "              \"parent cygnus andromeda\",\n",
    "              \"parent cygnus narcissa\",\n",
    "              \"parent andromeda nymphadora\",\n",
    "              \"parent narcissa draco\")\n",
    "\n",
    "sibling_test_data = [ 'person mario',\n",
    "                      'person luigi',\n",
    "                      'person papa',\n",
    "                      'parent papa mario',\n",
    "                      'parent papa luigi' ]\n",
    "\n",
    "\n",
    "grandparent_test_data = [ 'person jay',\n",
    "                          'person claire',\n",
    "                          'person alex',\n",
    "                          'parent jay claire',\n",
    "                          'parent claire alex' ]\n",
    "\n",
    "anonymous_family_test_data = [ 'person a1', 'person b1', 'person b2',\n",
    "                               'person c1', 'person c2', 'person c3',\n",
    "                               'person c4', 'person d1', 'person d2',\n",
    "                               'person d3', 'person d4',\n",
    "                               'parent a1 b1',\n",
    "                               'parent a1 b2',\n",
    "                               'parent b1 c1',\n",
    "                               'parent b1 c2',\n",
    "                               'parent b2 c3',\n",
    "                               'parent b2 c4',\n",
    "                               'parent c1 d1',\n",
    "                               'parent c2 d2',\n",
    "                               'parent c3 d3',\n",
    "                               'parent c4 d4' ]\n",
    "                               \n",
    "names_relationship = [ 'person a1', 'person b1', 'person b2',\n",
    "                               'person c1', 'person c2', 'person c3',\n",
    "                               'person c4', 'person d1', 'person d2',\n",
    "                               'person d3', 'person d4',\n",
    "                               'parent a1 b1',\n",
    "                               'parent a1 b2',\n",
    "                               'parent b1 c1',\n",
    "                               'parent b1 c2',\n",
    "                               'parent b2 c3',\n",
    "                               'parent b2 c4',\n",
    "                               'parent c1 d1',\n",
    "                               'parent c2 d2',\n",
    "                               'parent c3 d3',\n",
    "                               'parent c4 d4' ]"
   ]
  },
  {
   "cell_type": "code",
   "execution_count": null,
   "metadata": {},
   "outputs": [],
   "source": [
    "sibling_test_data = [ 'person mario',\n",
    "                      'person luigi',\n",
    "                      'person papa',\n",
    "                      'parent papa mario',\n",
    "                      'parent papa luigi' ]\n"
   ]
  },
  {
   "cell_type": "markdown",
   "metadata": {
    "ExecuteTime": {
     "end_time": "2018-08-01T08:14:01.890722Z",
     "start_time": "2018-08-01T08:14:01.883409Z"
    }
   },
   "source": [
    "class BinaryTree:\n",
    "    def __init__(self, value):\n",
    "        self.value = value \n",
    "        self.name = person_name \n",
    "        self.relationship = relationship\n",
    "        self.left_child = None\n",
    "        self.right_child = None"
   ]
  },
  {
   "cell_type": "code",
   "execution_count": 15,
   "metadata": {
    "ExecuteTime": {
     "end_time": "2018-08-01T10:47:29.948735Z",
     "start_time": "2018-08-01T10:47:29.900856Z"
    }
   },
   "outputs": [
    {
     "name": "stdout",
     "output_type": "stream",
     "text": [
      "person a1\n",
      "person b1\n",
      "person b2\n",
      "person c1\n",
      "person c2\n",
      "person c3\n",
      "person c4\n",
      "person d1\n",
      "person d2\n",
      "person d3\n",
      "person d4\n",
      "parent a1 b1\n",
      "parent a1 b2\n",
      "parent b1 c1\n",
      "parent b1 c2\n",
      "parent b2 c3\n",
      "parent b2 c4\n",
      "parent c1 d1\n",
      "parent c2 d2\n",
      "parent c3 d3\n",
      "parent c4 d4\n"
     ]
    }
   ],
   "source": [
    "for name_relationship in names_relationship:\n",
    "    print(name_relationship)"
   ]
  },
  {
   "cell_type": "code",
   "execution_count": 17,
   "metadata": {
    "ExecuteTime": {
     "end_time": "2018-08-01T10:48:43.080656Z",
     "start_time": "2018-08-01T10:48:43.041812Z"
    }
   },
   "outputs": [
    {
     "name": "stdout",
     "output_type": "stream",
     "text": [
      "person a1\n",
      "person b1\n",
      "person b2\n",
      "person c1\n",
      "person c2\n",
      "person c3\n",
      "person c4\n",
      "person d1\n",
      "person d2\n",
      "person d3\n",
      "person d4\n",
      "parent a1 b1\n",
      "parent a1 b2\n",
      "parent b1 c1\n",
      "parent b1 c2\n",
      "parent b2 c3\n",
      "parent b2 c4\n",
      "parent c1 d1\n",
      "parent c2 d2\n",
      "parent c3 d3\n",
      "parent c4 d4\n"
     ]
    }
   ],
   "source": [
    "for name in names_relationship:\n",
    "    print(name)\n",
    "    "
   ]
  },
  {
   "cell_type": "code",
   "execution_count": null,
   "metadata": {},
   "outputs": [],
   "source": [
    "\n",
    "\n"
   ]
  },
  {
   "cell_type": "code",
   "execution_count": 18,
   "metadata": {
    "ExecuteTime": {
     "end_time": "2018-08-01T10:48:53.228832Z",
     "start_time": "2018-08-01T10:48:53.214748Z"
    }
   },
   "outputs": [],
   "source": [
    "names=['person a1', 'person b1', 'person b2', 'person c1', 'person c2', 'person c3', 'person c4', 'person d1', 'person d2','person d3','person d4']"
   ]
  },
  {
   "cell_type": "code",
   "execution_count": null,
   "metadata": {},
   "outputs": [],
   "source": []
  },
  {
   "cell_type": "markdown",
   "metadata": {},
   "source": [
    "graph"
   ]
  },
  {
   "cell_type": "code",
   "execution_count": 13,
   "metadata": {
    "ExecuteTime": {
     "end_time": "2018-08-01T10:46:16.257166Z",
     "start_time": "2018-08-01T10:46:16.233501Z"
    }
   },
   "outputs": [],
   "source": [
    "parent={\n",
    "    'a1': set(['b1', 'b2']),\n",
    "    'b1': set(['c1', 'c2']),\n",
    "    'b2': set(['c3', 'c4']),\n",
    "    'c1': set(['d1']),\n",
    "    'c2': set(['d2']),\n",
    "    'c3': set(['d3']),\n",
    "}"
   ]
  },
  {
   "cell_type": "code",
   "execution_count": 20,
   "metadata": {
    "ExecuteTime": {
     "end_time": "2018-08-01T10:49:28.611594Z",
     "start_time": "2018-08-01T10:49:28.598909Z"
    }
   },
   "outputs": [],
   "source": [
    "indexes = range(len(names))\n",
    "indexes_parent = range(len(parent))"
   ]
  },
  {
   "cell_type": "code",
   "execution_count": 21,
   "metadata": {
    "ExecuteTime": {
     "end_time": "2018-08-01T10:49:34.107402Z",
     "start_time": "2018-08-01T10:49:34.019912Z"
    }
   },
   "outputs": [
    {
     "data": {
      "text/plain": [
       "21"
      ]
     },
     "execution_count": 21,
     "metadata": {},
     "output_type": "execute_result"
    }
   ],
   "source": [
    "len(names_relationship)"
   ]
  },
  {
   "cell_type": "code",
   "execution_count": 22,
   "metadata": {
    "ExecuteTime": {
     "end_time": "2018-08-01T10:49:37.396433Z",
     "start_time": "2018-08-01T10:49:37.364462Z"
    }
   },
   "outputs": [
    {
     "data": {
      "text/plain": [
       "0"
      ]
     },
     "execution_count": 22,
     "metadata": {},
     "output_type": "execute_result"
    }
   ],
   "source": [
    "names_relationship.index('person a1') "
   ]
  },
  {
   "cell_type": "code",
   "execution_count": 25,
   "metadata": {
    "ExecuteTime": {
     "end_time": "2018-08-01T10:50:36.733760Z",
     "start_time": "2018-08-01T10:50:36.711494Z"
    }
   },
   "outputs": [
    {
     "name": "stdout",
     "output_type": "stream",
     "text": [
      "0 3\n",
      "1 c\n"
     ]
    }
   ],
   "source": [
    "#Var index type intit has 9\n",
    "'''\n",
    "Create a manual mapping between the index and value for the items in the list 'names'\n",
    "'''\n",
    "for index, parent in zip(indexes_parent, sorted(parent)):\n",
    "    print(index, parent)"
   ]
  },
  {
   "cell_type": "code",
   "execution_count": 26,
   "metadata": {
    "ExecuteTime": {
     "end_time": "2018-08-01T10:50:47.076371Z",
     "start_time": "2018-08-01T10:50:47.044485Z"
    }
   },
   "outputs": [
    {
     "name": "stdout",
     "output_type": "stream",
     "text": [
      "0 person a1\n",
      "1 person b1\n",
      "2 person b2\n",
      "3 person c1\n",
      "4 person c2\n",
      "5 person c3\n",
      "6 person c4\n",
      "7 person d1\n",
      "8 person d2\n",
      "9 person d3\n",
      "10 person d4\n"
     ]
    }
   ],
   "source": [
    "for index, name in zip(indexes, sorted(names)):\n",
    "    print(index, name)"
   ]
  },
  {
   "cell_type": "markdown",
   "metadata": {},
   "source": [
    "Try again"
   ]
  },
  {
   "cell_type": "code",
   "execution_count": null,
   "metadata": {},
   "outputs": [],
   "source": [
    "from queue import Queue"
   ]
  },
  {
   "cell_type": "code",
   "execution_count": null,
   "metadata": {},
   "outputs": [],
   "source": [
    "class Node(object):\n",
    "    def __init__(self, val):\n",
    "        self.val = val\n",
    "        self.left = None\n",
    "        self.right = None"
   ]
  },
  {
   "cell_type": "code",
   "execution_count": null,
   "metadata": {},
   "outputs": [],
   "source": [
    "def insert_left(self, child):\n",
    "    if self.left is None:\n",
    "        self.left = child\n",
    "    else:\n",
    "        child.left = self.left\n",
    "        self.left = child\n"
   ]
  },
  {
   "cell_type": "code",
   "execution_count": null,
   "metadata": {},
   "outputs": [],
   "source": [
    "def insert_right(self, child):\n",
    "    if self.right is None:\n",
    "        self.right = child\n",
    "    else:\n",
    "        child.right = self.right\n",
    "        self.right = child"
   ]
  },
  {
   "cell_type": "code",
   "execution_count": 3,
   "metadata": {
    "ExecuteTime": {
     "end_time": "2018-08-01T10:39:35.965047Z",
     "start_time": "2018-08-01T10:39:35.947280Z"
    }
   },
   "outputs": [],
   "source": [
    "import sys\n",
    "sys.setrecursionlimit(10000)"
   ]
  },
  {
   "cell_type": "markdown",
   "metadata": {
    "ExecuteTime": {
     "end_time": "2018-08-01T09:59:16.776539Z",
     "start_time": "2018-08-01T09:59:16.760587Z"
    },
    "code_folding": []
   },
   "source": [
    "class Tree(object):\n",
    "    def __init__(self):\n",
    "        self.left = None\n",
    "        self.right = None\n",
    "        self.data = None\n",
    " \n",
    "root = Tree()\n",
    "root.data = \"root\"\n",
    "root.left = Tree()\n",
    "root.left.data = \"left\"\n",
    "root.right = Tree()\n",
    "root.right.data = \"right\"\n",
    " "
   ]
  },
  {
   "cell_type": "code",
   "execution_count": 27,
   "metadata": {
    "ExecuteTime": {
     "end_time": "2018-08-01T10:51:27.749409Z",
     "start_time": "2018-08-01T10:51:27.710288Z"
    }
   },
   "outputs": [],
   "source": [
    "\n",
    "class BinaryTree(object):\n",
    "    def __init__(self, value):\n",
    "        self.value = value\n",
    "        self.relationship =('parent', 'child', 'sibling')\n",
    "        self.left = None\n",
    "        self.right = None\n",
    "        \n",
    "        tree = BinaryTree('a1')\n",
    "        print(tree.value) # a\n",
    "        print(tree.left) # None\n",
    "        print(tree.right) # None\n",
    "\n",
    "def insert_left(self, value):\n",
    "    if self.left is None:\n",
    "        self.left = BinaryTree(value)\n",
    "    else:\n",
    "        new_node = BinaryTree(value)\n",
    "        new_node.left = self.left\n",
    "        self.left = new_node\n",
    "        \n",
    "        def insert_right(self, value):\n",
    "            if self.right is None:\n",
    "                self.right = BinaryTree(value)\n",
    "            else:\n",
    "                new_node = BinaryTree(value)\n",
    "                new_node.right = self.right\n",
    "                self.right = new_node\n",
    "                \n",
    "                "
   ]
  },
  {
   "cell_type": "code",
   "execution_count": null,
   "metadata": {},
   "outputs": [],
   "source": [
    "tree = BinaryTree('a1')\n",
    "print(tree.value) # a\n",
    "print(tree.left_child) # None\n",
    "print(tree.right_child) # None"
   ]
  },
  {
   "cell_type": "code",
   "execution_count": null,
   "metadata": {},
   "outputs": [],
   "source": [
    "def insert_left(BinaryTree, value):\n",
    "    if self.left_child == None:\n",
    "        self.left_child = BinaryTree(value)\n",
    "    else:\n",
    "        new_node = BinaryTree(value)\n",
    "        new_node.left_child = self.left_child\n",
    "        self.left_child = new_node"
   ]
  },
  {
   "cell_type": "code",
   "execution_count": null,
   "metadata": {},
   "outputs": [],
   "source": [
    "def insert_right(self, value):\n",
    "    if self.right_child == None:\n",
    "        self.right_child = BinaryTree(value)\n",
    "    else:\n",
    "        new_node = BinaryTree(value)\n",
    "        new_node.right_child = self.right_child\n",
    "        self.right_child = new_node"
   ]
  },
  {
   "cell_type": "code",
   "execution_count": null,
   "metadata": {},
   "outputs": [],
   "source": [
    "def bfs(self):\n",
    "        queue = Queue()\n",
    "        queue.put(self)\n",
    "\n",
    "        while not queue.empty():\n",
    "            current_node = queue.get()\n",
    "            print(current_node.value)\n",
    "\n",
    "            if current_node.left_child:\n",
    "                queue.put(current_node.left_child)\n",
    "\n",
    "            if current_node.right_child:\n",
    "                queue.put(current_node.right_child)"
   ]
  },
  {
   "cell_type": "code",
   "execution_count": null,
   "metadata": {},
   "outputs": [],
   "source": [
    "a_node = BinaryTree('a')\n",
    "a_node.insert_left('b')\n",
    "a_node.insert_right('c')\n",
    "\n",
    "b_node = a_node.left_child\n",
    "b_node.insert_right('d')\n",
    "\n",
    "c_node = a_node.right_child\n",
    "c_node.insert_left('e')\n",
    "c_node.insert_right('f')\n",
    "\n",
    "d_node = b_node.right_child\n",
    "e_node = c_node.left_child\n",
    "f_node = c_node.right_child\n",
    "\n",
    "print(a_node.value) # a\n",
    "print(b_node.value) # b\n",
    "print(c_node.value) # c\n",
    "print(d_node.value) # d\n",
    "print(e_node.value) # e\n",
    "print(f_node.value) # f"
   ]
  },
  {
   "cell_type": "code",
   "execution_count": null,
   "metadata": {},
   "outputs": [],
   "source": [
    "print(BinaryTree)"
   ]
  },
  {
   "cell_type": "code",
   "execution_count": 7,
   "metadata": {
    "ExecuteTime": {
     "end_time": "2018-08-01T10:41:40.494400Z",
     "start_time": "2018-08-01T10:41:14.158554Z"
    }
   },
   "outputs": [
    {
     "ename": "RecursionError",
     "evalue": "maximum recursion depth exceeded while calling a Python object",
     "output_type": "error",
     "traceback": [
      "\u001b[0;31m---------------------------------------------------------------------------\u001b[0m",
      "\u001b[0;31mRecursionError\u001b[0m                            Traceback (most recent call last)",
      "\u001b[0;32m<ipython-input-7-87b23dfbed42>\u001b[0m in \u001b[0;36m<module>\u001b[0;34m()\u001b[0m\n\u001b[0;32m----> 1\u001b[0;31m \u001b[0ma1_node\u001b[0m \u001b[0;34m=\u001b[0m \u001b[0mBinaryTree\u001b[0m\u001b[0;34m(\u001b[0m\u001b[0;34m'a1'\u001b[0m\u001b[0;34m)\u001b[0m\u001b[0;34m\u001b[0m\u001b[0m\n\u001b[0m\u001b[1;32m      2\u001b[0m \u001b[0ma1_node\u001b[0m\u001b[0;34m.\u001b[0m\u001b[0minsert_left\u001b[0m\u001b[0;34m(\u001b[0m\u001b[0;34m'b1'\u001b[0m\u001b[0;34m)\u001b[0m\u001b[0;34m\u001b[0m\u001b[0m\n\u001b[1;32m      3\u001b[0m \u001b[0ma1_node\u001b[0m\u001b[0;34m.\u001b[0m\u001b[0minsert_right\u001b[0m\u001b[0;34m(\u001b[0m\u001b[0;34m'b2'\u001b[0m\u001b[0;34m)\u001b[0m\u001b[0;34m\u001b[0m\u001b[0m\n\u001b[1;32m      4\u001b[0m \u001b[0;34m\u001b[0m\u001b[0m\n\u001b[1;32m      5\u001b[0m \u001b[0mb1_node\u001b[0m \u001b[0;34m=\u001b[0m \u001b[0ma1_node\u001b[0m\u001b[0;34m.\u001b[0m\u001b[0mleft\u001b[0m\u001b[0;34m\u001b[0m\u001b[0m\n",
      "\u001b[0;32m<ipython-input-6-494b7347aab7>\u001b[0m in \u001b[0;36m__init__\u001b[0;34m(self, value)\u001b[0m\n\u001b[1;32m      7\u001b[0m         \u001b[0mself\u001b[0m\u001b[0;34m.\u001b[0m\u001b[0mright\u001b[0m \u001b[0;34m=\u001b[0m \u001b[0;32mNone\u001b[0m\u001b[0;34m\u001b[0m\u001b[0m\n\u001b[1;32m      8\u001b[0m \u001b[0;34m\u001b[0m\u001b[0m\n\u001b[0;32m----> 9\u001b[0;31m         \u001b[0mtree\u001b[0m \u001b[0;34m=\u001b[0m \u001b[0mBinaryTree\u001b[0m\u001b[0;34m(\u001b[0m\u001b[0;34m'a1'\u001b[0m\u001b[0;34m)\u001b[0m\u001b[0;34m\u001b[0m\u001b[0m\n\u001b[0m\u001b[1;32m     10\u001b[0m         \u001b[0mprint\u001b[0m\u001b[0;34m(\u001b[0m\u001b[0mtree\u001b[0m\u001b[0;34m.\u001b[0m\u001b[0mvalue\u001b[0m\u001b[0;34m)\u001b[0m \u001b[0;31m# a\u001b[0m\u001b[0;34m\u001b[0m\u001b[0m\n\u001b[1;32m     11\u001b[0m         \u001b[0mprint\u001b[0m\u001b[0;34m(\u001b[0m\u001b[0mtree\u001b[0m\u001b[0;34m.\u001b[0m\u001b[0mleft\u001b[0m\u001b[0;34m)\u001b[0m \u001b[0;31m# None\u001b[0m\u001b[0;34m\u001b[0m\u001b[0m\n",
      "... last 1 frames repeated, from the frame below ...\n",
      "\u001b[0;32m<ipython-input-6-494b7347aab7>\u001b[0m in \u001b[0;36m__init__\u001b[0;34m(self, value)\u001b[0m\n\u001b[1;32m      7\u001b[0m         \u001b[0mself\u001b[0m\u001b[0;34m.\u001b[0m\u001b[0mright\u001b[0m \u001b[0;34m=\u001b[0m \u001b[0;32mNone\u001b[0m\u001b[0;34m\u001b[0m\u001b[0m\n\u001b[1;32m      8\u001b[0m \u001b[0;34m\u001b[0m\u001b[0m\n\u001b[0;32m----> 9\u001b[0;31m         \u001b[0mtree\u001b[0m \u001b[0;34m=\u001b[0m \u001b[0mBinaryTree\u001b[0m\u001b[0;34m(\u001b[0m\u001b[0;34m'a1'\u001b[0m\u001b[0;34m)\u001b[0m\u001b[0;34m\u001b[0m\u001b[0m\n\u001b[0m\u001b[1;32m     10\u001b[0m         \u001b[0mprint\u001b[0m\u001b[0;34m(\u001b[0m\u001b[0mtree\u001b[0m\u001b[0;34m.\u001b[0m\u001b[0mvalue\u001b[0m\u001b[0;34m)\u001b[0m \u001b[0;31m# a\u001b[0m\u001b[0;34m\u001b[0m\u001b[0m\n\u001b[1;32m     11\u001b[0m         \u001b[0mprint\u001b[0m\u001b[0;34m(\u001b[0m\u001b[0mtree\u001b[0m\u001b[0;34m.\u001b[0m\u001b[0mleft\u001b[0m\u001b[0;34m)\u001b[0m \u001b[0;31m# None\u001b[0m\u001b[0;34m\u001b[0m\u001b[0m\n",
      "\u001b[0;31mRecursionError\u001b[0m: maximum recursion depth exceeded while calling a Python object"
     ]
    }
   ],
   "source": [
    "a1_node = BinaryTree('a1')\n",
    "a1_node.insert_left('b1')\n",
    "a1_node.insert_right('b2')\n",
    "\n",
    "b1_node = a1_node.left\n",
    "b1_node.insert_left('c1')\n",
    "b1_node.insert_right('c2')\n",
    "\n",
    "c1_node = b1_node.left\n",
    "c1_node.insert_left('d1')\n",
    "\n",
    "c2_node = b1_node.right\n",
    "c2_node.insert_left('d2')\n",
    "\n",
    "d1_node = c1_node.left\n",
    "d2_node = c2_node.left\n",
    "\n",
    "\n",
    "print(a_node.value) # a\n",
    "print(b_node.value) # b\n",
    "print(c_node.value) # c\n",
    "print(d_node.value) # d\n"
   ]
  },
  {
   "cell_type": "code",
   "execution_count": null,
   "metadata": {},
   "outputs": [],
   "source": []
  },
  {
   "cell_type": "code",
   "execution_count": null,
   "metadata": {},
   "outputs": [],
   "source": []
  }
 ],
 "metadata": {
  "kernelspec": {
   "display_name": "Python [conda env:myclone]",
   "language": "python",
   "name": "conda-env-myclone-py"
  },
  "language_info": {
   "codemirror_mode": {
    "name": "ipython",
    "version": 3
   },
   "file_extension": ".py",
   "mimetype": "text/x-python",
   "name": "python",
   "nbconvert_exporter": "python",
   "pygments_lexer": "ipython3",
   "version": "3.6.5"
  },
  "toc": {
   "base_numbering": 1,
   "nav_menu": {},
   "number_sections": true,
   "sideBar": true,
   "skip_h1_title": false,
   "title_cell": "Table of Contents",
   "title_sidebar": "Contents",
   "toc_cell": false,
   "toc_position": {},
   "toc_section_display": true,
   "toc_window_display": false
  },
  "varInspector": {
   "cols": {
    "lenName": 16,
    "lenType": 16,
    "lenVar": 40
   },
   "kernels_config": {
    "python": {
     "delete_cmd_postfix": "",
     "delete_cmd_prefix": "del ",
     "library": "var_list.py",
     "varRefreshCmd": "print(var_dic_list())"
    },
    "r": {
     "delete_cmd_postfix": ") ",
     "delete_cmd_prefix": "rm(",
     "library": "var_list.r",
     "varRefreshCmd": "cat(var_dic_list()) "
    }
   },
   "position": {
    "height": "297.85px",
    "left": "910px",
    "right": "20px",
    "top": "120px",
    "width": "350px"
   },
   "types_to_exclude": [
    "module",
    "function",
    "builtin_function_or_method",
    "instance",
    "_Feature"
   ],
   "window_display": true
  }
 },
 "nbformat": 4,
 "nbformat_minor": 2
}
